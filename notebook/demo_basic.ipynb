{
 "cells": [
  {
   "cell_type": "markdown",
   "source": [
    "# Demo (Basic Function)\n",
    "\n",
    "Demonstrate the basic operation of Knowledge Q&A.\n",
    "\n",
    "There are two sections in this demo:\n",
    "\n",
    "**Index the Dataset** demonstrates how to index the known knowledge.  In this demo, I downloaded a tiny set of 20 Wikipedia articles in [this Kaggle directory](https://www.kaggle.com/datasets/ltcmdrdata/plain-text-wikipedia-202011?resource=download) just to demonstrate the functionality.  I used Marqo for this purpose.\n",
    "\n",
    "**RAG Q&A** demonstrates how to ask LLM a question with the given knowledge.  You can see the bot picked up a correct article and gave the respective citation.  If the question is outside the scope of the given knowledge, the bot would reply that it didn't know and with a citation marker \"\\[--\\]\".  This is useful later for us to trigger the bot to ask follow up questions.\n",
    "\n",
    "Also demonstrated is the ability to remove the restriction of the knowledge scope, by either asking the bot not to restrict itself, or remove the index reference all together.  The bot will respond with its pretrained knowledge.\n",
    "\n",
    "**Note**: Performance evaluation will be added later.\n",
    "\n",
    "## Prerequisites\n",
    "\n",
    "- Marqo server running\n",
    "- OpenAI key set in environment variable OPENAI_API_KEY\n",
    "-\n"
   ],
   "metadata": {
    "collapsed": false
   }
  },
  {
   "cell_type": "code",
   "execution_count": 1,
   "outputs": [],
   "source": [
    "import os\n",
    "import json"
   ],
   "metadata": {
    "collapsed": false
   }
  },
  {
   "cell_type": "code",
   "execution_count": 2,
   "outputs": [],
   "source": [
    "from cjw.knowledgeqa.indexer.Indexer import Indexer\n",
    "from cjw.knowledgeqa.indexer.MarqoIndexer import MarqoIndexer\n",
    "from cjw.knowledgeqa.bots.GptBot import GptBot"
   ],
   "metadata": {
    "collapsed": false
   }
  },
  {
   "cell_type": "markdown",
   "source": [
    "## Set up the Environment\n",
    "\n",
    "Adjust these variables if necessary to suit the local environment."
   ],
   "metadata": {
    "collapsed": false
   }
  },
  {
   "cell_type": "code",
   "execution_count": 3,
   "outputs": [],
   "source": [
    "\n",
    "HOME = os.path.expanduser(\"~\")\n",
    "PROJECT_DIR = f\"{HOME}/IdeaProjects/knowledgeqa\"\n",
    "DATA_FILE = f\"{PROJECT_DIR}/data/simple.json\"\n",
    "\n",
    "MARQO_SERVER = 'http://localhost:8882'\n",
    "TEST_INDEX_NAME = \"test_indexer\"\n",
    "\n",
    "RAG_KNOWLEDGE = 5       # How many facts should be pulled out from the index before being fed to LLM\n",
    "GPT_TEMPERATURE = 0.6"
   ],
   "metadata": {
    "collapsed": false
   }
  },
  {
   "cell_type": "markdown",
   "source": [
    "## Index the Dataset\n",
    "\n",
    "Read a tiny Wikipedia dataset.  It is the first few articles of the first file in [this Kaggle directory](https://www.kaggle.com/datasets/ltcmdrdata/plain-text-wikipedia-202011?resource=download)."
   ],
   "metadata": {
    "collapsed": false
   }
  },
  {
   "cell_type": "code",
   "execution_count": 4,
   "outputs": [
    {
     "name": "stdout",
     "output_type": "stream",
     "text": [
      "Index exists: Index test_indexer exists\n"
     ]
    }
   ],
   "source": [
    "try:\n",
    "    # Create the index if not yet created\n",
    "    index = MarqoIndexer.new(MARQO_SERVER, TEST_INDEX_NAME)\n",
    "except Indexer.IndexExistError as e:\n",
    "    # The index exists, so we just open it.\n",
    "    print(f\"Index exists: {e}\")\n",
    "    index = MarqoIndexer(MARQO_SERVER, TEST_INDEX_NAME)"
   ],
   "metadata": {
    "collapsed": false
   }
  },
  {
   "cell_type": "code",
   "execution_count": 5,
   "outputs": [
    {
     "name": "stderr",
     "output_type": "stream",
     "text": [
      "2024-01-07 17:00:02,764 logger:'marqo' INFO     add_documents batch 0: took 22.685s for Marqo to process & index 20 docs. Roundtrip time: 22.726s.\n"
     ]
    },
    {
     "name": "stdout",
     "output_type": "stream",
     "text": [
      "20 items updated\n"
     ]
    }
   ],
   "source": [
    "# Read the test data\n",
    "with open(DATA_FILE, \"r\") as fd:\n",
    "    data = json.load(fd)\n",
    "\n",
    "# Put the data into the index.  Overwrite those with the same IDs.\n",
    "status = await index.add(data, keyFields=[\"title\", \"text\"], idField=\"id\")\n",
    "print(f\"{len(status['items'])} items updated\")"
   ],
   "metadata": {
    "collapsed": false
   }
  },
  {
   "cell_type": "code",
   "execution_count": 6,
   "outputs": [],
   "source": [
    "def showResults(results: dict):\n",
    "    # Print the embedding search for nice reading\n",
    "    for r in results:\n",
    "        print(f\"id={r['_id']} score={r['_score']} title={r['title']}\\n{r['_highlights']}\\n\")"
   ],
   "metadata": {
    "collapsed": false
   }
  },
  {
   "cell_type": "markdown",
   "source": [
    "**Demonstrated that we can search based on embedding**"
   ],
   "metadata": {
    "collapsed": false
   }
  },
  {
   "cell_type": "code",
   "execution_count": 7,
   "outputs": [
    {
     "name": "stdout",
     "output_type": "stream",
     "text": [
      "id=7751000 score=0.81023204 title=M-137 (Michigan highway)\n",
      "{'text': 'There M-137 ran almost due north before terminating at its connection with the rest of the state trunkline system at US 31 at Interlochen Corners. The roadway continues north of US 31 as South Long Lake Road after the M-137 designation ended.'}\n",
      "\n",
      "id=7751062 score=0.6161333 title=Ghelamco Arena\n",
      "{'text': 'Gent'}\n",
      "\n",
      "id=7751190 score=0.58454525 title=Diego, Prince of Asturias\n",
      "{'text': '==Ancestry== Category:1575 births Category:1582 deaths Category:16th-century House of Habsburg Category:Princes of Asturias Category:Dukes of Montblanc Category:Princes of Portugal Category:Spanish infantes Category:Portuguese infantes Category:Heirs apparent who never acceded'}\n",
      "\n",
      "id=7751199 score=0.5838754 title=Union College, University of Queensland\n",
      "{'title': 'Union College, University of Queensland'}\n",
      "\n",
      "id=7751172 score=0.5790509 title=Racine Lutheran High School\n",
      "{'title': 'Racine Lutheran High School'}\n",
      "\n"
     ]
    }
   ],
   "source": [
    "# Test semantic searching\n",
    "nearestEmbedding = await index.search(\"What is M-137?\", top=RAG_KNOWLEDGE)\n",
    "showResults(nearestEmbedding)"
   ],
   "metadata": {
    "collapsed": false
   }
  },
  {
   "cell_type": "code",
   "execution_count": 8,
   "outputs": [
    {
     "name": "stdout",
     "output_type": "stream",
     "text": [
      "ID: 7751000\n",
      "Title: M-137 (Michigan highway)\n",
      "Text: M-137 was a state trunkline highway in the US state of Michigan that served as a spur route to the Interlochen Center for the Arts and Interlochen State Park. It started south of the park and ran north between two lakes in the area and through the community of Interlochen to US Highway 31 (US 31) in Grand Traverse County. The highway was first shown without a number label on maps in 1930 and labeled after an extension the next year. The highway's current routing was established in the 1950s. Jurisdiction of the roadway was transferred from the Michigan Department of Transportation (MDOT) to the Grand Traverse County Road Commission in June 2020, and the highway designation was decommissioned in the process; signage was removed by August 2020 to reflect the changeover. ==Route description== M-137 began at the southern end of Interlochen State Park at an intersection with Vagabond Lane. Farther south, the roadway continues toward Green Lake Airport as County Road 137 (CR 137), also known as Karlin Road. The state highway was a two-lane road that meandered north, passing the entrance to the state park and near the Interlochen Center for the Arts. The road continued along the isthmus between Green and Duck lakes. North of the school, the highway passed through a wooded section before entering the community of Interlochen itself near the Green Lake Township Hall. There M-137 ran almost due north before terminating at its connection with the rest of the state trunkline system at US 31 at Interlochen Corners. The roadway continues north of US 31 as South Long Lake Road after the M-137 designation ended. M-137 was maintained by MDOT like other state highways in Michigan. According to the department in 2010, 4,868 vehicles used the highway daily on average. No section of M-137 had been listed on the National Highway System, a network of roads important to the country's economy, defense, and mobility. ==History== reassurance marker near Diamond Park Road and the entrance to Interlochen Center for the Arts, May 2018 A highway along the route of M-137 connecting US 31 south to the state park was added to the state highway system during the first half of 1930, initially lacking a designation label on the state maps of the time. This routing was extended by and labelled as M-137 on maps in 1931. The former route through the campus of the Interlochen Center for the Arts was abandoned as a roadway on March 26, 1956, after M-137 was realigned to pass to the east of the school and extended further south through the state park area. On April 30, 2020, the GRCTC was to vote on a resolution to accept jurisdiction over M-137 from MDOT, effective June 1, 2020; the board approved the resolution. MDOT announced on August 6, 2020, that jurisdiction had been transferred at the beginning of June and that all M-137 signage had since been removed. ==Major intersections== ==See also== * ==References== ==External links== *Former M-137 at Michigan Highways 137 Category:Transportation in Grand Traverse County, Michigan \n"
     ]
    }
   ],
   "source": [
    "# Print the top pick for reference in later demo.\n",
    "topPick = nearestEmbedding[0]\n",
    "print(f\"ID: {topPick['_id']}\")\n",
    "print(f\"Title: {topPick['title']}\")\n",
    "print(f\"Text: {topPick['text']}\")"
   ],
   "metadata": {
    "collapsed": false
   }
  },
  {
   "cell_type": "markdown",
   "source": [
    "## RAG Q&A\n",
    "\n",
    "Use GPT-4 using the retrieved articles for RAG."
   ],
   "metadata": {
    "collapsed": false
   }
  },
  {
   "cell_type": "markdown",
   "source": [
    "**First, we ask for something that was mentioned in the facts.**\n",
    "\n",
    "Note that the sample was about M-137 highway, but I asked the bot for point of interests.  Also note that the bot not only provided its answer, but also attached with the citation to the article."
   ],
   "metadata": {
    "collapsed": false
   }
  },
  {
   "cell_type": "code",
   "execution_count": 9,
   "outputs": [],
   "source": [
    "# Create a bot (using GPT-4) and give it the indexed knowledge above.  We make the bot pick the top 5 candidate articles from which to derive its answer.\n",
    "bot = GptBot.of(\"gpt4\").withFacts(index, contentFields=[\"title\", \"text\"], top=5)"
   ],
   "metadata": {
    "collapsed": false
   }
  },
  {
   "cell_type": "code",
   "execution_count": 10,
   "outputs": [
    {
     "name": "stderr",
     "output_type": "stream",
     "text": [
      "Token indices sequence length is longer than the specified maximum sequence length for this model (3539 > 1024). Running this sequence through the model will result in indexing errors\n"
     ]
    },
    {
     "name": "stdout",
     "output_type": "stream",
     "text": [
      "Yes, one point of interest in Michigan is the M-137, a state trunkline highway that served as a spur route to the Interlochen Center for the Arts and Interlochen State Park. However, as of June 2020, the highway designation was decommissioned and the jurisdiction of the roadway was transferred from the Michigan Department of Transportation to the Grand Traverse County Road Commission. [7751000]\n"
     ]
    }
   ],
   "source": [
    "# Ask the question that I know in the knowledge.\n",
    "question = \"Do you know any point of interests in Michigan?\"\n",
    "answer = await bot.ask(question)\n",
    "print(f\"{answer.content} [{answer.citation}]\")"
   ],
   "metadata": {
    "collapsed": false
   }
  },
  {
   "cell_type": "markdown",
   "source": [
    "**Then, we try to ask a question that is not mentioned in the facts.**\n",
    "\n",
    "The default behavior is not to answer outside the scope of our indexed knowledge.  So, the bot said \"I don't know\".  In addition, the citation is now \"--\".  This is useful for triggering the system for further actions, such as making the bot to ask a follow up question."
   ],
   "metadata": {
    "collapsed": false
   }
  },
  {
   "cell_type": "code",
   "execution_count": 11,
   "outputs": [
    {
     "name": "stdout",
     "output_type": "stream",
     "text": [
      "I don't know [--]\n"
     ]
    }
   ],
   "source": [
    "unknown = \"What is Euler identity?\"\n",
    "answer2 = await bot.ask(unknown)\n",
    "print(f\"{answer2.content} [{answer2.citation}]\")"
   ],
   "metadata": {
    "collapsed": false
   }
  },
  {
   "cell_type": "markdown",
   "source": [
    "**We can ask it not to restricted to the given facts, but use them to update its pre-trained knowledge.**  `(restricted=False)`\n",
    "\n",
    "Note that the bot now answered the question about Euler's Identity (the citation is None).  But it still answered using the given indexed knowledge if it was available."
   ],
   "metadata": {
    "collapsed": false
   }
  },
  {
   "cell_type": "code",
   "execution_count": 12,
   "outputs": [
    {
     "name": "stdout",
     "output_type": "stream",
     "text": [
      "Euler's identity is a mathematical equation that establishes a deep relationship between several fundamental mathematical constants. It is often considered a remarkable and beautiful equation because it combines five of the most important numbers in mathematics into a single simple equation: the numbers 0, 1, pi, e and the imaginary unit i. The identity is written as e^(i*pi) + 1 = 0. This equation is a special case of Euler's formula, which states that for any real number x, e^(ix) = cos(x) + i*sin(x). [None]\n"
     ]
    }
   ],
   "source": [
    "unknown = \"What is Euler identity?\"\n",
    "answer2 = await bot.ask(unknown, restricted=False)\n",
    "print(f\"{answer2.content} [{answer2.citation}]\")"
   ],
   "metadata": {
    "collapsed": false
   }
  },
  {
   "cell_type": "code",
   "execution_count": 13,
   "outputs": [
    {
     "name": "stdout",
     "output_type": "stream",
     "text": [
      "One notable point of interest in Michigan is the Interlochen Center for the Arts and Interlochen State Park, which were served by the M-137 state trunkline highway. This highway ran north through the community of Interlochen until it was decommissioned in 2020 . [7751000]\n"
     ]
    }
   ],
   "source": [
    "question = \"Do you know any point of interests in Michigan?\"\n",
    "answer = await bot.ask(question, restricted=False)\n",
    "print(f\"{answer.content} [{answer.citation}]\")"
   ],
   "metadata": {
    "collapsed": false
   }
  },
  {
   "cell_type": "markdown",
   "source": [
    "**We can remove the facts and it will answer based on its pretrained knowledge.**\n",
    "\n",
    "Here we removed the index.  So the bot is now answering with its pretrained knowledge."
   ],
   "metadata": {
    "collapsed": false
   }
  },
  {
   "cell_type": "code",
   "execution_count": 14,
   "outputs": [
    {
     "name": "stdout",
     "output_type": "stream",
     "text": [
      "Yes, there are many points of interest in Michigan. Here are a few:\n",
      "\n",
      "1. The Henry Ford Museum: This museum in Dearborn is dedicated to American innovation, particularly in the field of technology.\n",
      "\n",
      "2. Detroit Institute of Arts: Home to one of the best art collections in the United States, the DIA offers a diverse range of exhibitions and educational programs.\n",
      "\n",
      "3. Mackinac Island: Known for its historic sites, horse-drawn carriages, and fudge shops. The island is also home to Fort Mackinac, which was built by the British during the American Revolutionary War.\n",
      "\n",
      "4. Pictured Rocks National Lakeshore: Located on the Lake Superior shoreline, this area offers stunning natural beauty, including sand dunes, waterfalls, and colorful mineral-stained cliffs.\n",
      "\n",
      "5. Sleeping Bear Dunes National Lakeshore: This park features towering sand dunes, beautiful beaches, and clear blue water. The Sleeping Bear Dunes also offer excellent hiking and camping opportunities.\n",
      "\n",
      "6. Detroit's Motown Museum: This museum is located in the house where Berry Gordy Jr. founded Motown Records. It's a must-visit for music lovers.\n",
      "\n",
      "7. The University of Michigan in Ann Arbor: Known for its beautiful campus, top-ranking academic programs, and vibrant city life.\n",
      "\n",
      "8. Isle Royale National Park: A remote island in Lake Superior that offers wilderness, wildlife, and outdoor adventure.\n",
      "\n",
      "9. The Detroit Zoo: Located in Royal Oak, it is home to over 2,400 animals of 235 species.\n",
      "\n",
      "10. The Michigan Science Center: Located in Detroit, it offers interactive exhibits for children and adults alike, including a planetarium and a 4D theater.\n",
      "\n",
      "Remember, each of these locations may have specific visiting hours and may need prior booking, so it's a good idea to check their respective websites before planning a visit. [None]\n"
     ]
    }
   ],
   "source": [
    "question = \"Do you know any point of interests in Michigan?\"\n",
    "bot.withFacts(None)\n",
    "answer = await bot.ask(question, restricted=False)\n",
    "print(f\"{answer.content} [{answer.citation}]\")"
   ],
   "metadata": {
    "collapsed": false
   }
  }
 ],
 "metadata": {
  "kernelspec": {
   "display_name": "Python 3",
   "language": "python",
   "name": "python3"
  },
  "language_info": {
   "codemirror_mode": {
    "name": "ipython",
    "version": 2
   },
   "file_extension": ".py",
   "mimetype": "text/x-python",
   "name": "python",
   "nbconvert_exporter": "python",
   "pygments_lexer": "ipython2",
   "version": "2.7.6"
  }
 },
 "nbformat": 4,
 "nbformat_minor": 0
}
