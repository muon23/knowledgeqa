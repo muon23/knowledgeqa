{
 "cells": [
  {
   "cell_type": "code",
   "execution_count": 1,
   "metadata": {
    "collapsed": true
   },
   "outputs": [
    {
     "name": "stdout",
     "output_type": "stream",
     "text": [
      "id='32bc322c6f8641a4b39a075bc2d56649' model='mistral-tiny' choices=[ChatCompletionResponseStreamChoice(index=0, delta=DeltaMessage(role='assistant', content=''), finish_reason=None)] created=1706217499 object='chat.completion.chunk' usage=None\n",
      "id='32bc322c6f8641a4b39a075bc2d56649' model='mistral-tiny' choices=[ChatCompletionResponseStreamChoice(index=0, delta=DeltaMessage(role=None, content='Identifying the \"'), finish_reason=None)] created=1706217499 object='chat.completion.chunk' usage=None\n",
      "id='32bc322c6f8641a4b39a075bc2d56649' model='mistral-tiny' choices=[ChatCompletionResponseStreamChoice(index=0, delta=DeltaMessage(role=None, content='best\" French cheese is subjective and depends on personal preference.'), finish_reason=None)] created=1706217499 object='chat.completion.chunk' usage=None\n",
      "id='32bc322c6f8641a4b39a075bc2d56649' model='mistral-tiny' choices=[ChatCompletionResponseStreamChoice(index=0, delta=DeltaMessage(role=None, content=' French cheese is renowned for its diversity, with over 4'), finish_reason=None)] created=1706217499 object='chat.completion.chunk' usage=None\n",
      "id='32bc322c6f8641a4b39a075bc2d56649' model='mistral-tiny' choices=[ChatCompletionResponseStreamChoice(index=0, delta=DeltaMessage(role=None, content='00 varieties ranging from soft, creamy, and mild to'), finish_reason=None)] created=1706217499 object='chat.completion.chunk' usage=None\n",
      "id='32bc322c6f8641a4b39a075bc2d56649' model='mistral-tiny' choices=[ChatCompletionResponseStreamChoice(index=0, delta=DeltaMessage(role=None, content=' hard, pungent, and robust. Here are some popular'), finish_reason=None)] created=1706217499 object='chat.completion.chunk' usage=None\n",
      "id='32bc322c6f8641a4b39a075bc2d56649' model='mistral-tiny' choices=[ChatCompletionResponseStreamChoice(index=0, delta=DeltaMessage(role=None, content=' French cheeses that are widely appreciated:\\n\\n1.'), finish_reason=None)] created=1706217499 object='chat.completion.chunk' usage=None\n",
      "id='32bc322c6f8641a4b39a075bc2d56649' model='mistral-tiny' choices=[ChatCompletionResponseStreamChoice(index=0, delta=DeltaMessage(role=None, content=\" Roquefort: A blue-veined sheep's\"), finish_reason=None)] created=1706217499 object='chat.completion.chunk' usage=None\n",
      "id='32bc322c6f8641a4b39a075bc2d56649' model='mistral-tiny' choices=[ChatCompletionResponseStreamChoice(index=0, delta=DeltaMessage(role=None, content=' milk cheese originating from the Massif Central region in France.'), finish_reason=None)] created=1706217499 object='chat.completion.chunk' usage=None\n",
      "id='32bc322c6f8641a4b39a075bc2d56649' model='mistral-tiny' choices=[ChatCompletionResponseStreamChoice(index=0, delta=DeltaMessage(role=None, content=' It has a pungent smell and a sharp, tangy'), finish_reason=None)] created=1706217499 object='chat.completion.chunk' usage=None\n",
      "id='32bc322c6f8641a4b39a075bc2d56649' model='mistral-tiny' choices=[ChatCompletionResponseStreamChoice(index=0, delta=DeltaMessage(role=None, content=' taste.\\n\\n2. Camembert: A soft,'), finish_reason=None)] created=1706217499 object='chat.completion.chunk' usage=None\n",
      "id='32bc322c6f8641a4b39a075bc2d56649' model='mistral-tiny' choices=[ChatCompletionResponseStreamChoice(index=0, delta=DeltaMessage(role=None, content=\" creamy cow's milk cheese from\"), finish_reason=None)] created=1706217499 object='chat.completion.chunk' usage=None\n",
      "id='32bc322c6f8641a4b39a075bc2d56649' model='mistral-tiny' choices=[ChatCompletionResponseStreamChoice(index=0, delta=DeltaMessage(role=None, content=' Normandy, known for'), finish_reason=None)] created=1706217499 object='chat.completion.chunk' usage=None\n",
      "id='32bc322c6f8641a4b39a075bc2d56649' model='mistral-tiny' choices=[ChatCompletionResponseStreamChoice(index=0, delta=DeltaMessage(role=None, content=' its earthy and mushroom-like flavors'), finish_reason=None)] created=1706217499 object='chat.completion.chunk' usage=None\n",
      "id='32bc322c6f8641a4b39a075bc2d56649' model='mistral-tiny' choices=[ChatCompletionResponseStreamChoice(index=0, delta=DeltaMessage(role=None, content='.\\n'), finish_reason=None)] created=1706217499 object='chat.completion.chunk' usage=None\n",
      "id='32bc322c6f8641a4b39a075bc2d56649' model='mistral-tiny' choices=[ChatCompletionResponseStreamChoice(index=0, delta=DeltaMessage(role=None, content='\\n3. Comté:'), finish_reason=None)] created=1706217499 object='chat.completion.chunk' usage=None\n",
      "id='32bc322c6f8641a4b39a075bc2d56649' model='mistral-tiny' choices=[ChatCompletionResponseStreamChoice(index=0, delta=DeltaMessage(role=None, content=' A hard, nutty,'), finish_reason=None)] created=1706217499 object='chat.completion.chunk' usage=None\n",
      "id='32bc322c6f8641a4b39a075bc2d56649' model='mistral-tiny' choices=[ChatCompletionResponseStreamChoice(index=0, delta=DeltaMessage(role=None, content=' and'), finish_reason=None)] created=1706217499 object='chat.completion.chunk' usage=None\n",
      "id='32bc322c6f8641a4b39a075bc2d56649' model='mistral-tiny' choices=[ChatCompletionResponseStreamChoice(index=0, delta=DeltaMessage(role=None, content=\" slightly sweet cow's milk\"), finish_reason=None)] created=1706217499 object='chat.completion.chunk' usage=None\n",
      "id='32bc322c6f8641a4b39a075bc2d56649' model='mistral-tiny' choices=[ChatCompletionResponseStreamChoice(index=0, delta=DeltaMessage(role=None, content=' cheese from the Franche-'), finish_reason=None)] created=1706217499 object='chat.completion.chunk' usage=None\n",
      "id='32bc322c6f8641a4b39a075bc2d56649' model='mistral-tiny' choices=[ChatCompletionResponseStreamChoice(index=0, delta=DeltaMessage(role=None, content='Comté region. It has a'), finish_reason=None)] created=1706217499 object='chat.completion.chunk' usage=None\n",
      "id='32bc322c6f8641a4b39a075bc2d56649' model='mistral-tiny' choices=[ChatCompletionResponseStreamChoice(index=0, delta=DeltaMessage(role=None, content=' complex flavor with hints of'), finish_reason=None)] created=1706217499 object='chat.completion.chunk' usage=None\n",
      "id='32bc322c6f8641a4b39a075bc2d56649' model='mistral-tiny' choices=[ChatCompletionResponseStreamChoice(index=0, delta=DeltaMessage(role=None, content=' butter, caramel,'), finish_reason=None)] created=1706217499 object='chat.completion.chunk' usage=None\n",
      "id='32bc322c6f8641a4b39a075bc2d56649' model='mistral-tiny' choices=[ChatCompletionResponseStreamChoice(index=0, delta=DeltaMessage(role=None, content=' and'), finish_reason=None)] created=1706217499 object='chat.completion.chunk' usage=None\n",
      "id='32bc322c6f8641a4b39a075bc2d56649' model='mistral-tiny' choices=[ChatCompletionResponseStreamChoice(index=0, delta=DeltaMessage(role=None, content=' hazelnuts.\\n\\n'), finish_reason=None)] created=1706217499 object='chat.completion.chunk' usage=None\n",
      "id='32bc322c6f8641a4b39a075bc2d56649' model='mistral-tiny' choices=[ChatCompletionResponseStreamChoice(index=0, delta=DeltaMessage(role=None, content='4. Brie'), finish_reason=None)] created=1706217499 object='chat.completion.chunk' usage=None\n",
      "id='32bc322c6f8641a4b39a075bc2d56649' model='mistral-tiny' choices=[ChatCompletionResponseStreamChoice(index=0, delta=DeltaMessage(role=None, content=''), finish_reason=None)] created=1706217499 object='chat.completion.chunk' usage=None\n",
      "id='32bc322c6f8641a4b39a075bc2d56649' model='mistral-tiny' choices=[ChatCompletionResponseStreamChoice(index=0, delta=DeltaMessage(role=None, content=' de Me'), finish_reason=None)] created=1706217499 object='chat.completion.chunk' usage=None\n",
      "id='32bc322c6f8641a4b39a075bc2d56649' model='mistral-tiny' choices=[ChatCompletionResponseStreamChoice(index=0, delta=DeltaMessage(role=None, content='aux: A soft, creamy'), finish_reason=None)] created=1706217499 object='chat.completion.chunk' usage=None\n",
      "id='32bc322c6f8641a4b39a075bc2d56649' model='mistral-tiny' choices=[ChatCompletionResponseStreamChoice(index=0, delta=DeltaMessage(role=None, content=\" cow's milk cheese with\"), finish_reason=None)] created=1706217499 object='chat.completion.chunk' usage=None\n",
      "id='32bc322c6f8641a4b39a075bc2d56649' model='mistral-tiny' choices=[ChatCompletionResponseStreamChoice(index=0, delta=DeltaMessage(role=None, content=' a bloomy rind,'), finish_reason=None)] created=1706217499 object='chat.completion.chunk' usage=None\n",
      "id='32bc322c6f8641a4b39a075bc2d56649' model='mistral-tiny' choices=[ChatCompletionResponseStreamChoice(index=0, delta=DeltaMessage(role=None, content=' originating from the Marne region'), finish_reason=None)] created=1706217499 object='chat.completion.chunk' usage=None\n",
      "id='32bc322c6f8641a4b39a075bc2d56649' model='mistral-tiny' choices=[ChatCompletionResponseStreamChoice(index=0, delta=DeltaMessage(role=None, content='. It'), finish_reason=None)] created=1706217499 object='chat.completion.chunk' usage=None\n",
      "id='32bc322c6f8641a4b39a075bc2d56649' model='mistral-tiny' choices=[ChatCompletionResponseStreamChoice(index=0, delta=DeltaMessage(role=None, content=' has a'), finish_reason=None)] created=1706217499 object='chat.completion.chunk' usage=None\n",
      "id='32bc322c6f8641a4b39a075bc2d56649' model='mistral-tiny' choices=[ChatCompletionResponseStreamChoice(index=0, delta=DeltaMessage(role=None, content=' mild, butter'), finish_reason=None)] created=1706217499 object='chat.completion.chunk' usage=None\n",
      "id='32bc322c6f8641a4b39a075bc2d56649' model='mistral-tiny' choices=[ChatCompletionResponseStreamChoice(index=0, delta=DeltaMessage(role=None, content='y taste with subtle hints of mushroom and wal'), finish_reason=None)] created=1706217499 object='chat.completion.chunk' usage=None\n",
      "id='32bc322c6f8641a4b39a075bc2d56649' model='mistral-tiny' choices=[ChatCompletionResponseStreamChoice(index=0, delta=DeltaMessage(role=None, content='nut.\\n\\n5. Munster: A soft'), finish_reason=None)] created=1706217499 object='chat.completion.chunk' usage=None\n",
      "id='32bc322c6f8641a4b39a075bc2d56649' model='mistral-tiny' choices=[ChatCompletionResponseStreamChoice(index=0, delta=DeltaMessage(role=None, content=\", smelly, and runny cow's milk\"), finish_reason=None)] created=1706217499 object='chat.completion.chunk' usage=None\n",
      "id='32bc322c6f8641a4b39a075bc2d56649' model='mistral-tiny' choices=[ChatCompletionResponseStreamChoice(index=0, delta=DeltaMessage(role=None, content=' cheese with a washed r'), finish_reason=None)] created=1706217499 object='chat.completion.chunk' usage=None\n",
      "id='32bc322c6f8641a4b39a075bc2d56649' model='mistral-tiny' choices=[ChatCompletionResponseStreamChoice(index=0, delta=DeltaMessage(role=None, content='ind'), finish_reason=None)] created=1706217499 object='chat.completion.chunk' usage=None\n",
      "id='32bc322c6f8641a4b39a075bc2d56649' model='mistral-tiny' choices=[ChatCompletionResponseStreamChoice(index=0, delta=DeltaMessage(role=None, content=', originating from the'), finish_reason=None)] created=1706217499 object='chat.completion.chunk' usage=None\n",
      "id='32bc322c6f8641a4b39a075bc2d56649' model='mistral-tiny' choices=[ChatCompletionResponseStreamChoice(index=0, delta=DeltaMessage(role=None, content=' Alsace region. It has a strong, pung'), finish_reason=None)] created=1706217499 object='chat.completion.chunk' usage=None\n",
      "id='32bc322c6f8641a4b39a075bc2d56649' model='mistral-tiny' choices=[ChatCompletionResponseStreamChoice(index=0, delta=DeltaMessage(role=None, content='ent, and slightly sweet flavor.\\n\\n6'), finish_reason=None)] created=1706217499 object='chat.completion.chunk' usage=None\n",
      "id='32bc322c6f8641a4b39a075bc2d56649' model='mistral-tiny' choices=[ChatCompletionResponseStreamChoice(index=0, delta=DeltaMessage(role=None, content='.'), finish_reason=None)] created=1706217499 object='chat.completion.chunk' usage=None\n",
      "id='32bc322c6f8641a4b39a075bc2d56649' model='mistral-tiny' choices=[ChatCompletionResponseStreamChoice(index=0, delta=DeltaMessage(role=None, content=' Époisses: A soft, pung'), finish_reason=None)] created=1706217499 object='chat.completion.chunk' usage=None\n",
      "id='32bc322c6f8641a4b39a075bc2d56649' model='mistral-tiny' choices=[ChatCompletionResponseStreamChoice(index=0, delta=DeltaMessage(role=None, content=\"ent cow's milk cheese with a washed rind\"), finish_reason=None)] created=1706217499 object='chat.completion.chunk' usage=None\n",
      "id='32bc322c6f8641a4b39a075bc2d56649' model='mistral-tiny' choices=[ChatCompletionResponseStreamChoice(index=0, delta=DeltaMessage(role=None, content=\", originating from the Côte-d'\"), finish_reason=None)] created=1706217499 object='chat.completion.chunk' usage=None\n",
      "id='32bc322c6f8641a4b39a075bc2d56649' model='mistral-tiny' choices=[ChatCompletionResponseStreamChoice(index=0, delta=DeltaMessage(role=None, content='Or region. It has a powerful aroma and a'), finish_reason=None)] created=1706217499 object='chat.completion.chunk' usage=None\n",
      "id='32bc322c6f8641a4b39a075bc2d56649' model='mistral-tiny' choices=[ChatCompletionResponseStreamChoice(index=0, delta=DeltaMessage(role=None, content=' rich, buttery, and slightly sweet taste.\\n'), finish_reason=None)] created=1706217499 object='chat.completion.chunk' usage=None\n",
      "id='32bc322c6f8641a4b39a075bc2d56649' model='mistral-tiny' choices=[ChatCompletionResponseStreamChoice(index=0, delta=DeltaMessage(role=None, content='\\nUltimately, the best French cheese for'), finish_reason=None)] created=1706217499 object='chat.completion.chunk' usage=None\n",
      "id='32bc322c6f8641a4b39a075bc2d56649' model='mistral-tiny' choices=[ChatCompletionResponseStreamChoice(index=0, delta=DeltaMessage(role=None, content=' you is the one that you enjoy the most!'), finish_reason=None)] created=1706217499 object='chat.completion.chunk' usage=None\n",
      "id='32bc322c6f8641a4b39a075bc2d56649' model='mistral-tiny' choices=[ChatCompletionResponseStreamChoice(index=0, delta=DeltaMessage(role=None, content=''), finish_reason=<FinishReason.stop: 'stop'>)] created=1706217499 object='chat.completion.chunk' usage=UsageInfo(prompt_tokens=15, total_tokens=391, completion_tokens=376)\n"
     ]
    }
   ],
   "source": [
    "import os\n",
    "from mistralai.client import MistralClient\n",
    "from mistralai.models.chat_completion import ChatMessage\n",
    "\n",
    "api_key = os.environ[\"MISTRAL_API_KEY\"]\n",
    "model = \"mistral-tiny\"\n",
    "\n",
    "client = MistralClient(api_key=api_key)\n",
    "\n",
    "messages = [\n",
    "    ChatMessage(role=\"user\", content=\"What is the best French cheese?\")\n",
    "]\n",
    "\n",
    "# No streaming\n",
    "chat_response = client.chat(\n",
    "    model=model,\n",
    "    messages=messages,\n",
    ")\n",
    "\n",
    "# With streaming\n",
    "for chunk in client.chat_stream(model=model, messages=messages):\n",
    "    print(chunk)"
   ]
  },
  {
   "cell_type": "code",
   "execution_count": 3,
   "outputs": [
    {
     "data": {
      "text/plain": "[ChatCompletionResponseChoice(index=0, message=ChatMessage(role='assistant', content='It\\'s subjective to determine the \"best\" French cheese as it largely depends on personal preference. Here are a few well-known French cheeses that are highly regarded and appreciated for their unique flavors and textures:\\n\\n1. Roquefort: A blue-veined sheep\\'s milk cheese with a strong, tangy flavor and a distinctive pungent aroma.\\n2. Comté: A nutty and slightly sweet cow\\'s milk cheese from the Franche-Comté region, which is often described as having a rich, buttery texture.\\n3. Camembert: A soft, creamy cow\\'s milk cheese with a white rind and a rich, earthy flavor.\\n4. Brie de Meaux: A soft, creamy cow\\'s milk cheese with a white rind and a mild, buttery flavor.\\n5. Munster: A pungent, smelly cow\\'s milk cheese with a runny, orange-colored interior.\\n\\nUltimately, the best French cheese for you depends on your personal taste preferences. I recommend trying a variety of French cheeses to find the one that suits your palate the best. Additionally, consider pairing the cheese with some crusty bread, wine, or fruit to enhance the flavors.'), finish_reason=<FinishReason.stop: 'stop'>)]"
     },
     "execution_count": 3,
     "metadata": {},
     "output_type": "execute_result"
    }
   ],
   "source": [
    "chat_response.choices"
   ],
   "metadata": {
    "collapsed": false
   }
  }
 ],
 "metadata": {
  "kernelspec": {
   "display_name": "Python 3",
   "language": "python",
   "name": "python3"
  },
  "language_info": {
   "codemirror_mode": {
    "name": "ipython",
    "version": 2
   },
   "file_extension": ".py",
   "mimetype": "text/x-python",
   "name": "python",
   "nbconvert_exporter": "python",
   "pygments_lexer": "ipython2",
   "version": "2.7.6"
  }
 },
 "nbformat": 4,
 "nbformat_minor": 0
}
