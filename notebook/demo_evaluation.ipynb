{
 "cells": [
  {
   "cell_type": "markdown",
   "source": [
    "# Demo -- Model Evaluation\n",
    "\n"
   ],
   "metadata": {
    "collapsed": false
   }
  },
  {
   "cell_type": "code",
   "execution_count": 1,
   "outputs": [],
   "source": [
    "import logging\n",
    "import os\n",
    "\n",
    "from cjw.knowledgeqa import indexers, bots\n",
    "from cjw.knowledgeqa.bots import GptBot\n",
    "from cjw.knowledgeqa.evaluators.ProximityEvaluator import ProximityEvaluator\n",
    "from cjw.knowledgeqa.evaluators.QAData import QAData\n"
   ],
   "metadata": {
    "collapsed": false
   }
  },
  {
   "cell_type": "markdown",
   "source": [
    "## Set up the Environment\n",
    "\n",
    "Adjust these variables if necessary to suit the local environment.\n"
   ],
   "metadata": {
    "collapsed": false
   }
  },
  {
   "cell_type": "code",
   "execution_count": 2,
   "outputs": [],
   "source": [
    "\n",
    "HOME = os.path.expanduser(\"~\")\n",
    "PROJECT_DIR = f\"{HOME}/IdeaProjects/knowledgeqa\"\n",
    "DATA_FILE = f\"{PROJECT_DIR}/data/wikipedia_question_similar_answer.tsv\"\n",
    "\n",
    "MARQO_SERVER = 'http://localhost:8882'\n",
    "TEST_INDEX_NAME = \"wiki_test_qa\"\n",
    "\n",
    "RAG_KNOWLEDGE = 5       # How many facts should be pulled out from the index before being fed to LLM\n",
    "GPT_TEMPERATURE = 0.6"
   ],
   "metadata": {
    "collapsed": false
   }
  },
  {
   "cell_type": "code",
   "execution_count": 3,
   "outputs": [],
   "source": [
    "# Turn on logger too see the internal work\n",
    "\n",
    "logging.basicConfig(level=logging.INFO)\n",
    "ProximityEvaluator.logger.setLevel(logging.INFO)\n",
    "GptBot.logger.setLevel(logging.INFO)\n"
   ],
   "metadata": {
    "collapsed": false
   }
  },
  {
   "cell_type": "markdown",
   "source": [
    "## Load Data, Indexing, and Create the Bot under Evaluation"
   ],
   "metadata": {
    "collapsed": false
   }
  },
  {
   "cell_type": "code",
   "execution_count": 4,
   "outputs": [],
   "source": [
    "# Read the golden Q&A data\n",
    "data = QAData(DATA_FILE)"
   ],
   "metadata": {
    "collapsed": false
   }
  },
  {
   "cell_type": "code",
   "execution_count": 5,
   "outputs": [],
   "source": [
    "# Start an index to hold the Q&A data\n",
    "index = indexers.index(\"marqo\", new=True, serverUrl=MARQO_SERVER, indexName=TEST_INDEX_NAME)"
   ],
   "metadata": {
    "collapsed": false
   }
  },
  {
   "cell_type": "code",
   "execution_count": 6,
   "outputs": [
    {
     "name": "stderr",
     "output_type": "stream",
     "text": [
      "/var/folders/mj/8vz4yhqj5w76hnkw54qktw900000gn/T/ipykernel_23063/787393499.py:2: RuntimeWarning: coroutine 'MarqoIndexer.size' was never awaited\n",
      "  if index.size() == 0:\n",
      "RuntimeWarning: Enable tracemalloc to get the object allocation traceback\n"
     ]
    }
   ],
   "source": [
    "# Index the data if it is not yet in there\n",
    "if index.size() == 0:\n",
    "    await index.add(data.to_dict(), keyFields=[\"answer\"])"
   ],
   "metadata": {
    "collapsed": false
   }
  },
  {
   "cell_type": "code",
   "execution_count": 7,
   "outputs": [
    {
     "data": {
      "text/plain": "[{'question': \"what is singapore's currency\",\n  'answer': 'the singapore dollar or dollar ( sign : $; code : sgd) is the official currency of singapore .',\n  '_id': '1377',\n  '_highlights': {'answer': 'the singapore dollar or dollar ( sign : $; code : sgd) is the official currency of singapore .'},\n  '_score': 0.90729886},\n {'question': 'what is korean money called',\n  'answer': 'the won () ( sign : ₩; code : krw) is the currency of south korea .',\n  '_id': '1429',\n  '_highlights': {'answer': 'the won () ( sign : ₩; code : krw) is the currency of south korea .'},\n  '_score': 0.7079103},\n {'question': 'who composed the singapore national anthem',\n  'answer': \"composed by zubir said in 1958 as a theme song for official functions of the city council of singapore, the song was selected in 1959 as the island's anthem when it attained self-government .\",\n  '_id': '678',\n  '_highlights': {'answer': \"composed by zubir said in 1958 as a theme song for official functions of the city council of singapore, the song was selected in 1959 as the island's anthem when it attained self-government .\"},\n  '_score': 0.69687176}]"
     },
     "execution_count": 7,
     "metadata": {},
     "output_type": "execute_result"
    }
   ],
   "source": [
    "# Test indexer's answer\n",
    "question = \"what is singapore's currency\"\n",
    "indexerAnswers = await index.search(question, top=3)\n",
    "indexerAnswers"
   ],
   "metadata": {
    "collapsed": false
   }
  },
  {
   "cell_type": "code",
   "execution_count": 8,
   "outputs": [],
   "source": [
    "# Create a bot using the Q&A contents in the index\n",
    "bot = bots.bot(\"gpt4\").withFacts(index, contentFields=[\"answer\"], top=RAG_KNOWLEDGE)"
   ],
   "metadata": {
    "collapsed": false
   }
  },
  {
   "cell_type": "code",
   "execution_count": 9,
   "outputs": [
    {
     "name": "stderr",
     "output_type": "stream",
     "text": [
      "INFO:GptBot:Considering facts:\n",
      "[409]\n",
      "the president of the united states of america (potus) is the head of state and head of government of the united states .\n",
      "\n",
      "[410]\n",
      "the president leads the executive branch of the federal government and is the commander-in-chief of the united states armed forces .\n",
      "\n",
      "[411]\n",
      "the president is further empowered to grant federal pardons and reprieves , and to convene and adjourn either or both houses of congress under extraordinary circumstances.\n",
      "\n",
      "[813]\n",
      "george washington ( – , 1799) was the first president of the united states (1789–1797), the commander-in-chief of the continental army during the american revolutionary war , and one of the founding fathers of the united states .\n",
      "\n",
      "[1156]\n",
      "george washington ( – , 1799) was the first president of the united states (1789–1797), the commander-in-chief of the continental army during the american revolutionary war , and one of the founding fathers of the united states .\n",
      "INFO:GptBot:Question:\n",
      "what does the president of the usa do\n",
      "INFO:openai:message='OpenAI API response' path=https://api.openai.com/v1/chat/completions processing_ms=5865 request_id=24898cad16f36c3de0f701e5424db68b response_code=200\n",
      "INFO:GptBot:Answer:\n",
      "The President of the United States of America (POTUS) is the head of state and head of government of the United States, leads the executive branch of the federal government, is the commander-in-chief of the United States Armed Forces, and is empowered to grant federal pardons and reprieves, and to convene and adjourn either or both houses of Congress under extraordinary circumstances. [409][410][411]\n"
     ]
    },
    {
     "name": "stdout",
     "output_type": "stream",
     "text": [
      "The President of the United States of America (POTUS) is the head of state and head of government of the United States, leads the executive branch of the federal government, is the commander-in-chief of the United States Armed Forces, and is empowered to grant federal pardons and reprieves, and to convene and adjourn either or both houses of Congress under extraordinary circumstances. [409,410,411]\n",
      "In the index\n",
      "[409] the president of the united states of america (potus) is the head of state and head of government of the united states .\n",
      "[410] the president leads the executive branch of the federal government and is the commander-in-chief of the united states armed forces .\n",
      "[411] the president is further empowered to grant federal pardons and reprieves , and to convene and adjourn either or both houses of congress under extraordinary circumstances.\n"
     ]
    }
   ],
   "source": [
    "# Test the bot.  (Note the multiple citations.)\n",
    "question = \"what does the president of the usa do\"\n",
    "botAnswer = await bot.ask(question)\n",
    "print(botAnswer)\n",
    "\n",
    "print(\"In the index\")\n",
    "articles = await index.get(botAnswer.citations)\n",
    "for a in articles:\n",
    "    print(f\"[{a['_id']}] {a['answer']}\")"
   ],
   "metadata": {
    "collapsed": false
   }
  },
  {
   "cell_type": "markdown",
   "source": [
    "## Found Standard Answers in Proximity of Embedding\n",
    "\n",
    "Make the bot answer a question, embed the answer, and see if the standard answer is in the top N items in the proximity."
   ],
   "metadata": {
    "collapsed": false
   }
  },
  {
   "cell_type": "code",
   "execution_count": 10,
   "outputs": [
    {
     "name": "stderr",
     "output_type": "stream",
     "text": [
      "INFO:ProximityEvaluator:Question: what was the first honda car\n",
      "INFO:GptBot:Considering facts:\n",
      "[1058]\n",
      "the honda s600 is an automobile manufactured by honda .\n",
      "\n",
      "[933]\n",
      "triumph engineering co ltd, a defunct british motorcycle manufacturer\n",
      "\n",
      "[291]\n",
      "it was first developed by siemens in the mid-1990s and introduced by mercedes-benz under the name \"keyless go\" in 1998 on the w220 s-class following its design patent filed by daimler-benz on may 17, 1997.\n",
      "\n",
      "[435]\n",
      "delaware was one of the 13 colonies participating in the american revolution and on december 7, 1787, became the first state to ratify the constitution of the united states , thereby becoming known as the first state.\n",
      "\n",
      "[1160]\n",
      "motorcycle speedway, usually referred to as speedway, is a motorcycle sport involving four and sometimes up to six riders competing over four anti-clockwise laps of an oval circuit.\n",
      "INFO:GptBot:Question:\n",
      "what was the first honda car\n",
      "INFO:openai:message='OpenAI API response' path=https://api.openai.com/v1/chat/completions processing_ms=1187 request_id=8162a22936d6f6a8357fb17e20cfb302 response_code=200\n",
      "INFO:GptBot:Answer:\n",
      "The first car manufactured by Honda was the Honda S600. [1058]\n",
      "INFO:ProximityEvaluator:Answer: The first car manufactured by Honda was the Honda S600. [1058]\n",
      "INFO:ProximityEvaluator:\n",
      "[1058] the honda s600 is an automobile manufactured by honda .\n",
      "[934] triumph motorcycles ltd , a current british motorcycle manufacturer\n",
      "[933] triumph engineering co ltd, a defunct british motorcycle manufacturer\n",
      "INFO:ProximityEvaluator:Score = 1.0\n",
      "INFO:ProximityEvaluator:Question: what is a millwright worker\n",
      "INFO:GptBot:Considering facts:\n",
      "[751]\n",
      "a millwright is a craftsman or tradesman engaged with the construction and maintenance of machinery .\n",
      "\n",
      "[1199]\n",
      "a gristmill (also: grist mill, corn mill or flour mill) grinds grain into flour .\n",
      "\n",
      "[772]\n",
      "it is made by general mills .\n",
      "\n",
      "[728]\n",
      "the company was formed by a merger between massey harris and the ferguson company farm machinery manufacturer in 1953, creating the company massey harris ferguson.\n",
      "\n",
      "[559]\n",
      "full-time employment is employment in which a person works a minimum number of hours defined as such by his/her employer.\n",
      "INFO:GptBot:Question:\n",
      "what is a millwright worker\n",
      "INFO:openai:message='OpenAI API response' path=https://api.openai.com/v1/chat/completions processing_ms=1981 request_id=70ff05dd97ba355ff9b05396da9c792d response_code=200\n",
      "INFO:GptBot:Answer:\n",
      "A millwright is a craftsman or tradesman who is involved in the construction and maintenance of machinery. [751]\n",
      "INFO:ProximityEvaluator:Answer: A millwright is a craftsman or tradesman who is involved in the construction and maintenance of machinery. [751]\n",
      "INFO:ProximityEvaluator:\n",
      "[751] a millwright is a craftsman or tradesman engaged with the construction and maintenance of machinery .\n",
      "[491] the mill or mille () (sometimes mil in the uk , when discussing property taxes in the united states , or previously in cyprus and malta ) is a now-abstract unit of currency used sometimes in accounting .\n",
      "[1199] a gristmill (also: grist mill, corn mill or flour mill) grinds grain into flour .\n",
      "INFO:ProximityEvaluator:Score = 1.0\n",
      "INFO:ProximityEvaluator:Question: where is penn state stadium\n",
      "INFO:GptBot:Considering facts:\n",
      "[1138]\n",
      "beaver stadium is an outdoor college football stadium in university park , pennsylvania , united states , on the campus of the pennsylvania state university .\n",
      "\n",
      "[62]\n",
      "its twelve member institutions (which are primarily flagship research universities in their respective states, well-regarded academically, and with relatively large student enrollment) are located primarily in the midwest , stretching from nebraska in the west to penn state in the east.\n",
      "\n",
      "[1189]\n",
      "the stadium seats 85,000, making it the third largest stadium in the nfl by seating capacity .\n",
      "\n",
      "[1268]\n",
      "it was created in 1935 as the downtown athletic club trophy and renamed in 1936 following the death of the club's athletic director, john heisman (former brown university and university of pennsylvania player; head football coach at oberlin college , auburn university , clemson university , rice university , and the university of pennsylvania; and football, basketball, and baseball head coach and athletic director at georgia tech ).\n",
      "\n",
      "[186]\n",
      "the boise state broncos football program represents boise state university in college football and compete in the football bowl subdivision (fbs) of division i as a member of the mountain west conference .\n",
      "INFO:GptBot:Question:\n",
      "where is penn state stadium\n",
      "INFO:openai:message='OpenAI API response' path=https://api.openai.com/v1/chat/completions processing_ms=3746 request_id=95d09a215bb465edda10a58b20dae51a response_code=200\n",
      "INFO:GptBot:Answer:\n",
      "Penn State's stadium, Beaver Stadium, is located in University Park, Pennsylvania, United States, on the campus of the Pennsylvania State University. [1138]\n",
      "INFO:ProximityEvaluator:Answer: Penn State's stadium, Beaver Stadium, is located in University Park, Pennsylvania, United States, on the campus of the Pennsylvania State University. [1138]\n",
      "INFO:ProximityEvaluator:\n",
      "[1138] beaver stadium is an outdoor college football stadium in university park , pennsylvania , united states , on the campus of the pennsylvania state university .\n",
      "[62] its twelve member institutions (which are primarily flagship research universities in their respective states, well-regarded academically, and with relatively large student enrollment) are located primarily in the midwest , stretching from nebraska in the west to penn state in the east.\n",
      "[1189] the stadium seats 85,000, making it the third largest stadium in the nfl by seating capacity .\n",
      "INFO:ProximityEvaluator:Score = 1.0\n",
      "INFO:ProximityEvaluator:Question: what country is madrid spain in\n",
      "INFO:GptBot:Considering facts:\n",
      "[374]\n",
      "madrid (, ) is the capital and largest city of spain .\n",
      "\n",
      "[693]\n",
      "in the final, spain , the european champions , defeated third-time finalists the netherlands 1–0 after extra time , with andrés iniesta 's goal in the 116th minute giving spain their first world title, becoming the eighth nation to win the tournament, and the first european nation to win the tournament outside its home continent.\n",
      "\n",
      "[744]\n",
      "in the final, spain , the european champions , defeated third-time finalists the netherlands 1–0 after extra time , with andrés iniesta 's goal in the 116th minute giving spain their first world title, becoming the eighth nation to win the tournament, and the first european nation to win the tournament outside its home continent.\n",
      "\n",
      "[1457]\n",
      "basque ( endonym : , ) is the ancestral language of the basque people , who inhabit the basque country , a region spanning an area in northeastern spain and southwestern france .\n",
      "\n",
      "[1068]\n",
      "andorra (; , ), officially the principality of andorra (), also called the principality of the valleys of andorra, (), is a landlocked microstate in southwestern europe , located in the eastern pyrenees mountains and bordered by spain and france .\n",
      "INFO:GptBot:Question:\n",
      "what country is madrid spain in\n",
      "INFO:openai:message='OpenAI API response' path=https://api.openai.com/v1/chat/completions processing_ms=1059 request_id=1f0a2f8c7e29f8b6e43d157d51217d46 response_code=200\n",
      "INFO:GptBot:Answer:\n",
      "Madrid is in Spain. [374]\n",
      "INFO:ProximityEvaluator:Answer: Madrid is in Spain. [374]\n",
      "INFO:ProximityEvaluator:\n",
      "[374] madrid (, ) is the capital and largest city of spain .\n",
      "[693] in the final, spain , the european champions , defeated third-time finalists the netherlands 1–0 after extra time , with andrés iniesta 's goal in the 116th minute giving spain their first world title, becoming the eighth nation to win the tournament, and the first european nation to win the tournament outside its home continent.\n",
      "[744] in the final, spain , the european champions , defeated third-time finalists the netherlands 1–0 after extra time , with andrés iniesta 's goal in the 116th minute giving spain their first world title, becoming the eighth nation to win the tournament, and the first european nation to win the tournament outside its home continent.\n",
      "INFO:ProximityEvaluator:Score = 1.0\n",
      "INFO:ProximityEvaluator:Question: what is three phase electrical\n",
      "INFO:GptBot:Considering facts:\n",
      "[1430]\n",
      "three-phase electric power is a common method of alternating-current electric power generation , transmission , and distribution .\n",
      "\n",
      "[428]\n",
      "3g, short for third generation, is the third generation of mobile telecommunications technology.\n",
      "\n",
      "[816]\n",
      "the four thirds system is a standard created by olympus and kodak for digital single-lens reflex camera (dslr) design and development.<ref name='dpreview.com 2001-02-13'>\n",
      "\n",
      "[243]\n",
      "others use a local power source such as a battery, or else have no battery but collect energy from the interrogating em field, and then act as a passive transponder to emit microwaves or uhf radio waves (i.e., electromagnetic radiation at high frequencies).\n",
      "\n",
      "[1095]\n",
      "the term cubic foot is an imperial and us customary (non- metric ) unit of volume , used in the united states and the united kingdom.\n",
      "INFO:GptBot:Question:\n",
      "what is three phase electrical\n",
      "INFO:openai:message='OpenAI API response' path=https://api.openai.com/v1/chat/completions processing_ms=1521 request_id=f3b93b187b4ca340d58d85fbfb0e2225 response_code=200\n",
      "INFO:GptBot:Answer:\n",
      "Three-phase electric power is a common method of alternating-current electric power generation, transmission, and distribution. [1430]\n",
      "INFO:ProximityEvaluator:Answer: Three-phase electric power is a common method of alternating-current electric power generation, transmission, and distribution. [1430]\n",
      "INFO:ProximityEvaluator:\n",
      "[1430] three-phase electric power is a common method of alternating-current electric power generation , transmission , and distribution .\n",
      "[243] others use a local power source such as a battery, or else have no battery but collect energy from the interrogating em field, and then act as a passive transponder to emit microwaves or uhf radio waves (i.e., electromagnetic radiation at high frequencies).\n",
      "[181] wind power is the conversion of wind energy into a useful form of energy, such as using wind turbines to make electrical power , windmills for mechanical power, wind pumps for water pumping or drainage , or sails to propel ships.\n",
      "INFO:ProximityEvaluator:Score = 1.0\n",
      "INFO:ProximityEvaluator:Question: what age group is generation x\n",
      "INFO:GptBot:Considering facts:\n",
      "[444]\n",
      "after a gestation period of about 65 days, two to five young, known as \"kits\", are born in spring.\n",
      "\n",
      "[1079]\n",
      "rock of ages is a rock / jukebox musical , with a book by chris d'arienzo, built around classic rock hits from the 1980s, especially from the famous glam metal bands of the decade.\n",
      "\n",
      "[292]\n",
      "as a medical diagnosis, pedophilia or paedophilia is a psychiatric disorder in persons 16 years of age or older typically characterized by a primary or exclusive sexual interest toward prepubescent children (generally age 11 years or younger, though specific diagnosis criteria for the disorder extends the cut-off point for prepubescence to age 13).\n",
      "\n",
      "[250]\n",
      "humans are born with over 270 bones, some of which fuse together into a longitudinal axis, the axial skeleton , to which the appendicular skeleton is attached.\n",
      "\n",
      "[821]\n",
      "the launch of the playstation 3 into the japanese market on 10 november 2006 marked the second major seventh generation entertainment system to be released.\n",
      "INFO:GptBot:Question:\n",
      "what age group is generation x\n",
      "INFO:openai:message='OpenAI API response' path=https://api.openai.com/v1/chat/completions processing_ms=845 request_id=f30bbc309e71cab96b4eeaeaa28a6929 response_code=200\n",
      "INFO:GptBot:Answer:\n",
      "I don't know [--]\n",
      "INFO:ProximityEvaluator:Answer: I don't know [--]\n",
      "INFO:ProximityEvaluator:Question: what did isaac newton do\n",
      "INFO:GptBot:Considering facts:\n",
      "[116]\n",
      "sir isaac newton (25 december 164220 march 1727) was an english physicist and mathematician who is widely regarded as one of the most influential scientists of all time and as a key figure in the scientific revolution .\n",
      "\n",
      "[546]\n",
      "sir isaac newton (25 december 164220 march 1727) was an english physicist and mathematician who is widely regarded as one of the most influential scientists of all time and as a key figure in the scientific revolution .\n",
      "\n",
      "[117]\n",
      "newton's law of universal gravitation states that every point mass in the universe attracts every other point mass with a force that is directly proportional to the product of their masses and inversely proportional to the square of the distance between them.\n",
      "\n",
      "[760]\n",
      "newton norman minow (born january 17, 1926) is an american attorney and former chairman of the federal communications commission .\n",
      "\n",
      "[131]\n",
      "elijah j. mccoy (may 2, 1844 – october 10, 1929) was a black canadian-american inventor and engineer, who was notable for his 57 u.s. patents , most to do with lubrication of steam engines.\n",
      "INFO:GptBot:Question:\n",
      "what did isaac newton do\n",
      "INFO:openai:message='OpenAI API response' path=https://api.openai.com/v1/chat/completions processing_ms=4600 request_id=fb2a9312c664805dc034e77d417a1a3f response_code=200\n",
      "INFO:GptBot:Answer:\n",
      "Sir Isaac Newton was an English physicist and mathematician. He is widely regarded as one of the most influential scientists of all time and a key figure in the scientific revolution. He formulated the law of universal gravitation. [116] [117]\n",
      "INFO:ProximityEvaluator:Answer: Sir Isaac Newton was an English physicist and mathematician. He is widely regarded as one of the most influential scientists of all time and a key figure in the scientific revolution. He formulated the law of universal gravitation. [116,117]\n",
      "INFO:ProximityEvaluator:\n",
      "[116] sir isaac newton (25 december 164220 march 1727) was an english physicist and mathematician who is widely regarded as one of the most influential scientists of all time and as a key figure in the scientific revolution .\n",
      "[546] sir isaac newton (25 december 164220 march 1727) was an english physicist and mathematician who is widely regarded as one of the most influential scientists of all time and as a key figure in the scientific revolution .\n",
      "[117] newton's law of universal gravitation states that every point mass in the universe attracts every other point mass with a force that is directly proportional to the product of their masses and inversely proportional to the square of the distance between them.\n",
      "INFO:ProximityEvaluator:Score = 1.0\n",
      "INFO:ProximityEvaluator:Question: who can file suspicious activity report\n",
      "INFO:GptBot:Considering facts:\n",
      "[476]\n",
      "in united states financial regulation , a suspicious activity report (or sar) is a report made by a financial institution to the financial crimes enforcement network (fincen), an agency of the united states department of the treasury , regarding suspicious or potentially suspicious activity.\n",
      "\n",
      "[1075]\n",
      "its primary purpose is to track individuals for social security purposes.\n",
      "\n",
      "[580]\n",
      "the data may pass through an operational data store for additional operations before they are used in the dw for reporting.\n",
      "\n",
      "[39]\n",
      "the user makes a request with their local library, which, acting as an intermediary, identifies owners of the desired item, places the request, receives the item, makes it available to the user, and arranges for its return.\n",
      "\n",
      "[47]\n",
      "financial audits are typically performed by firms of practicing accountants who are experts in financial reporting.\n",
      "INFO:GptBot:Question:\n",
      "who can file suspicious activity report\n",
      "INFO:openai:message='OpenAI API response' path=https://api.openai.com/v1/chat/completions processing_ms=2873 request_id=f7f781bc1fd8d3c7a7c71fb4432c9bb1 response_code=200\n",
      "INFO:GptBot:Answer:\n",
      "A suspicious activity report (SAR) can be filed by a financial institution. [476]\n",
      "INFO:ProximityEvaluator:Answer: A suspicious activity report (SAR) can be filed by a financial institution. [476]\n",
      "INFO:ProximityEvaluator:\n",
      "[476] in united states financial regulation , a suspicious activity report (or sar) is a report made by a financial institution to the financial crimes enforcement network (fincen), an agency of the united states department of the treasury , regarding suspicious or potentially suspicious activity.\n",
      "[1075] its primary purpose is to track individuals for social security purposes.\n",
      "[449] a balance sheet is often described as a \"snapshot of a company's financial condition\".\n",
      "INFO:ProximityEvaluator:Score = 1.0\n",
      "INFO:ProximityEvaluator:Question: who killed julius caesar\n",
      "INFO:GptBot:Considering facts:\n",
      "[455]\n",
      "but the underlying political conflicts had not been resolved, and on the ides of march (15 march) 44 bc, caesar was assassinated by a group of senators led by marcus junius brutus .\n",
      "\n",
      "[735]\n",
      "in 2006, proof was shot and killed during an altercation at the ccc nightclub in detroit.\n",
      "\n",
      "[200]\n",
      "four sitting presidents have been killed: abraham lincoln (the 16th president), james a. garfield (the 20th president), william mckinley (the 25th president) and john f. kennedy (the 35th president).\n",
      "\n",
      "[526]\n",
      "on 28 june 1914, archduke franz ferdinand of austria , heir presumptive to the austro-hungarian throne, and his wife, sophie, duchess of hohenberg , were shot dead in sarajevo , by gavrilo princip , one of a group of six bosnian serb assassins coordinated by danilo ilić .\n",
      "\n",
      "[670]\n",
      "on 28 june 1914, archduke franz ferdinand of austria , heir presumptive to the austro-hungarian throne, and his wife, sophie, duchess of hohenberg , were shot dead in sarajevo , by gavrilo princip , one of a group of six bosnian serb assassins coordinated by danilo ilić .\n",
      "INFO:GptBot:Question:\n",
      "who killed julius caesar\n",
      "INFO:openai:message='OpenAI API response' path=https://api.openai.com/v1/chat/completions processing_ms=2053 request_id=12a50a0f54ba2bde7e3157b660e3ad65 response_code=200\n",
      "INFO:GptBot:Answer:\n",
      "Julius Caesar was assassinated by a group of senators led by Marcus Junius Brutus. [455]\n",
      "INFO:ProximityEvaluator:Answer: Julius Caesar was assassinated by a group of senators led by Marcus Junius Brutus. [455]\n",
      "INFO:ProximityEvaluator:\n",
      "[455] but the underlying political conflicts had not been resolved, and on the ides of march (15 march) 44 bc, caesar was assassinated by a group of senators led by marcus junius brutus .\n",
      "[1351] king was assassinated on april 4, 1968, in memphis, tennessee .\n",
      "[294] kennedy was assassinated on november 22, 1963 in dallas , texas.\n",
      "INFO:ProximityEvaluator:Score = 1.0\n",
      "INFO:ProximityEvaluator:Question: what part of the plant are avocados\n",
      "INFO:GptBot:Considering facts:\n",
      "[700]\n",
      "avocado or alligator pear also refers to the fruit ( botanically a large berry that contains a single seed) of the tree.\n",
      "\n",
      "[1319]\n",
      "it is a food and fibre crop that is grown in cooler regions of the world.\n",
      "\n",
      "[779]\n",
      "the mango is native to south asia , from where it has been distributed worldwide to become one of the most cultivated fruits in the tropics .\n",
      "\n",
      "[823]\n",
      "black pepper is native to south india , and is extensively cultivated there and elsewhere in tropical regions.\n",
      "\n",
      "[1157]\n",
      "located in the southwest pacific ocean , it lies geographically to the east of the malay archipelago , with which it is sometimes included as part of a greater indo-australian archipelago .\n",
      "INFO:GptBot:Question:\n",
      "what part of the plant are avocados\n",
      "INFO:openai:message='OpenAI API response' path=https://api.openai.com/v1/chat/completions processing_ms=1856 request_id=d5f85a93253d9b088a4a8f2ed7533b40 response_code=200\n",
      "INFO:GptBot:Answer:\n",
      "Avocados refer to the fruit of the tree. [700]\n",
      "INFO:ProximityEvaluator:Answer: Avocados refer to the fruit of the tree. [700]\n",
      "INFO:ProximityEvaluator:\n",
      "[700] avocado or alligator pear also refers to the fruit ( botanically a large berry that contains a single seed) of the tree.\n",
      "[1319] it is a food and fibre crop that is grown in cooler regions of the world.\n",
      "[779] the mango is native to south asia , from where it has been distributed worldwide to become one of the most cultivated fruits in the tropics .\n",
      "INFO:ProximityEvaluator:Score = 1.0\n"
     ]
    },
    {
     "name": "stdout",
     "output_type": "stream",
     "text": [
      "0.9\n"
     ]
    }
   ],
   "source": [
    "# Create the Evaluator for the bot\n",
    "evaluator = await ProximityEvaluator().forBot(bot).withData(data, index)\n",
    "\n",
    "score = await evaluator.evaluate(sampleSize=10)\n",
    "\n",
    "print(score)"
   ],
   "metadata": {
    "collapsed": false
   }
  },
  {
   "cell_type": "markdown",
   "source": [
    "During my tests, I found the bot stated that it does not know \"what states does interstate 70 travel through\".  I checked the test data and found the answer to the question was:\n",
    "\n",
    "*\"interstate 70 (i-70) is an interstate highway in the united states that runs from interstate 15 near cove fort, utah , to a park and ride near baltimore, maryland .\"*\n",
    "\n",
    "This is **NOT** a correct answer for the question.  Thus, the bot is actually correct not knowing the answer from the provided facts."
   ],
   "metadata": {
    "collapsed": false
   }
  },
  {
   "cell_type": "code",
   "execution_count": 11,
   "outputs": [
    {
     "name": "stdout",
     "output_type": "stream",
     "text": [
      "[{'_found': True, 'question': 'what states does interstate 70 travel through', 'answer': 'interstate 70 (i-70) is an interstate highway in the united states that runs from interstate 15 near cove fort, utah , to a park and ride near baltimore, maryland .', '_id': '777'}]\n"
     ]
    },
    {
     "name": "stderr",
     "output_type": "stream",
     "text": [
      "INFO:GptBot:Considering facts:\n",
      "[777]\n",
      "interstate 70 (i-70) is an interstate highway in the united states that runs from interstate 15 near cove fort, utah , to a park and ride near baltimore, maryland .\n",
      "\n",
      "[552]\n",
      "the states which have shoreline on the east coast are, from north to south, the u.s. states of maine , new hampshire , massachusetts , rhode island , connecticut , new york , new jersey , delaware , maryland , virginia , north carolina , south carolina , georgia , and florida .\n",
      "\n",
      "[943]\n",
      "the lower forty-eight contiguous states and the federal district of washington, d.c. are in central north america between canada and mexico.\n",
      "\n",
      "[944]\n",
      "the state of alaska is west of canada and east of russia across the bering strait, and the state of hawaii is in the mid-north pacific.\n",
      "\n",
      "[982]\n",
      "arizona became the second state to adopt a \"state firearm\" after utah adopted the browning m1911 .\n",
      "INFO:GptBot:Question:\n",
      "what states does interstate 70 travel through\n",
      "INFO:openai:message='OpenAI API response' path=https://api.openai.com/v1/chat/completions processing_ms=739 request_id=285a4213cf1239ffe32c96a7f811984a response_code=200\n",
      "INFO:GptBot:Answer:\n",
      "I don't know [--]\n"
     ]
    },
    {
     "name": "stdout",
     "output_type": "stream",
     "text": [
      "I don't know [--]\n"
     ]
    }
   ],
   "source": [
    "answerUnknownQuestion = \"what states does interstate 70 travel through\"\n",
    "answerUnknownId = '777'\n",
    "print(await index.get(answerUnknownId))\n",
    "\n",
    "print(await bot.ask(answerUnknownQuestion))"
   ],
   "metadata": {
    "collapsed": false
   }
  },
  {
   "cell_type": "code",
   "execution_count": 12,
   "outputs": [
    {
     "name": "stderr",
     "output_type": "stream",
     "text": [
      "INFO:GptBot:Considering facts:\n",
      "[444]\n",
      "after a gestation period of about 65 days, two to five young, known as \"kits\", are born in spring.\n",
      "\n",
      "[1079]\n",
      "rock of ages is a rock / jukebox musical , with a book by chris d'arienzo, built around classic rock hits from the 1980s, especially from the famous glam metal bands of the decade.\n",
      "\n",
      "[292]\n",
      "as a medical diagnosis, pedophilia or paedophilia is a psychiatric disorder in persons 16 years of age or older typically characterized by a primary or exclusive sexual interest toward prepubescent children (generally age 11 years or younger, though specific diagnosis criteria for the disorder extends the cut-off point for prepubescence to age 13).\n",
      "\n",
      "[250]\n",
      "humans are born with over 270 bones, some of which fuse together into a longitudinal axis, the axial skeleton , to which the appendicular skeleton is attached.\n",
      "\n",
      "[821]\n",
      "the launch of the playstation 3 into the japanese market on 10 november 2006 marked the second major seventh generation entertainment system to be released.\n",
      "INFO:GptBot:Question:\n",
      "what age group is generation x\n",
      "INFO:openai:message='OpenAI API response' path=https://api.openai.com/v1/chat/completions processing_ms=561 request_id=5cb68747418601397fbb29dc1de32a7f response_code=200\n",
      "INFO:GptBot:Answer:\n",
      "I don't know [--]\n"
     ]
    },
    {
     "name": "stdout",
     "output_type": "stream",
     "text": [
      "I don't know [--]\n"
     ]
    }
   ],
   "source": [
    "# This question could not be found in the top-5 picks in the index.\n",
    "\n",
    "answerNotFoundByIndex = \"what age group is generation x\"\n",
    "print(await bot.ask(answerNotFoundByIndex))"
   ],
   "metadata": {
    "collapsed": false
   }
  }
 ],
 "metadata": {
  "kernelspec": {
   "display_name": "Python 3",
   "language": "python",
   "name": "python3"
  },
  "language_info": {
   "codemirror_mode": {
    "name": "ipython",
    "version": 2
   },
   "file_extension": ".py",
   "mimetype": "text/x-python",
   "name": "python",
   "nbconvert_exporter": "python",
   "pygments_lexer": "ipython2",
   "version": "2.7.6"
  }
 },
 "nbformat": 4,
 "nbformat_minor": 0
}
