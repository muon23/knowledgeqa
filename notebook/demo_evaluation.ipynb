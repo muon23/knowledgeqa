{
 "cells": [
  {
   "cell_type": "markdown",
   "source": [
    "# Demo -- Model Evaluation\n",
    "\n"
   ],
   "metadata": {
    "collapsed": false
   }
  },
  {
   "cell_type": "code",
   "execution_count": 1,
   "outputs": [],
   "source": [
    "import logging\n",
    "import os\n",
    "\n",
    "from cjw.knowledgeqa import indexers, bots\n",
    "from cjw.knowledgeqa.bots import GptBot\n",
    "from cjw.knowledgeqa.evaluators.ProximityEvaluator import ProximityEvaluator\n",
    "from cjw.knowledgeqa.evaluators.QAData import QAData\n"
   ],
   "metadata": {
    "collapsed": false
   }
  },
  {
   "cell_type": "markdown",
   "source": [
    "## Set up the Environment\n",
    "\n",
    "Adjust these variables if necessary to suit the local environment.\n"
   ],
   "metadata": {
    "collapsed": false
   }
  },
  {
   "cell_type": "code",
   "execution_count": 2,
   "outputs": [],
   "source": [
    "\n",
    "HOME = os.path.expanduser(\"~\")\n",
    "PROJECT_DIR = f\"{HOME}/IdeaProjects/knowledgeqa\"\n",
    "DATA_FILE = f\"{PROJECT_DIR}/data/wikipedia_question_similar_answer.tsv\"\n",
    "\n",
    "MARQO_SERVER = 'http://localhost:8882'\n",
    "TEST_INDEX_NAME = \"wiki_test_qa\"\n",
    "\n",
    "RAG_KNOWLEDGE = 5       # How many facts should be pulled out from the index before being fed to LLM\n",
    "GPT_TEMPERATURE = 0.6"
   ],
   "metadata": {
    "collapsed": false
   }
  },
  {
   "cell_type": "code",
   "execution_count": 3,
   "outputs": [],
   "source": [
    "# Turn on logger too see the internal work\n",
    "\n",
    "logging.basicConfig(level=logging.INFO)\n",
    "ProximityEvaluator.logger.setLevel(logging.INFO)\n",
    "GptBot.logger.setLevel(logging.INFO)\n"
   ],
   "metadata": {
    "collapsed": false
   }
  },
  {
   "cell_type": "markdown",
   "source": [
    "## Load Data, Indexing, and Create the Bot under Evaluation"
   ],
   "metadata": {
    "collapsed": false
   }
  },
  {
   "cell_type": "code",
   "execution_count": 4,
   "outputs": [],
   "source": [
    "# Read the golden Q&A data\n",
    "data = QAData(DATA_FILE)"
   ],
   "metadata": {
    "collapsed": false
   }
  },
  {
   "cell_type": "code",
   "execution_count": 5,
   "outputs": [],
   "source": [
    "# Start an index to hold the Q&A data\n",
    "index = indexers.index(\"marqo\", new=True, serverUrl=MARQO_SERVER, indexName=TEST_INDEX_NAME)"
   ],
   "metadata": {
    "collapsed": false
   }
  },
  {
   "cell_type": "code",
   "execution_count": 6,
   "outputs": [
    {
     "name": "stderr",
     "output_type": "stream",
     "text": [
      "/var/folders/mj/8vz4yhqj5w76hnkw54qktw900000gn/T/ipykernel_26014/787393499.py:2: RuntimeWarning: coroutine 'MarqoIndexer.size' was never awaited\n",
      "  if index.size() == 0:\n",
      "RuntimeWarning: Enable tracemalloc to get the object allocation traceback\n"
     ]
    }
   ],
   "source": [
    "# Index the data if it is not yet in there\n",
    "if index.size() == 0:\n",
    "    await index.add(data.to_dict(), keyFields=[\"answer\"])"
   ],
   "metadata": {
    "collapsed": false
   }
  },
  {
   "cell_type": "code",
   "execution_count": 7,
   "outputs": [
    {
     "data": {
      "text/plain": "[{'question': \"what is singapore's currency\",\n  'answer': 'the singapore dollar or dollar ( sign : $; code : sgd) is the official currency of singapore .',\n  '_id': '1377',\n  '_highlights': {'answer': 'the singapore dollar or dollar ( sign : $; code : sgd) is the official currency of singapore .'},\n  '_score': 0.90729886},\n {'question': 'what is korean money called',\n  'answer': 'the won () ( sign : ₩; code : krw) is the currency of south korea .',\n  '_id': '1429',\n  '_highlights': {'answer': 'the won () ( sign : ₩; code : krw) is the currency of south korea .'},\n  '_score': 0.7079103},\n {'question': 'who composed the singapore national anthem',\n  'answer': \"composed by zubir said in 1958 as a theme song for official functions of the city council of singapore, the song was selected in 1959 as the island's anthem when it attained self-government .\",\n  '_id': '678',\n  '_highlights': {'answer': \"composed by zubir said in 1958 as a theme song for official functions of the city council of singapore, the song was selected in 1959 as the island's anthem when it attained self-government .\"},\n  '_score': 0.69687176}]"
     },
     "execution_count": 7,
     "metadata": {},
     "output_type": "execute_result"
    }
   ],
   "source": [
    "# Test indexer's answer\n",
    "question = \"what is singapore's currency\"\n",
    "indexerAnswers = await index.search(question, top=3)\n",
    "indexerAnswers"
   ],
   "metadata": {
    "collapsed": false
   }
  },
  {
   "cell_type": "code",
   "execution_count": 8,
   "outputs": [],
   "source": [
    "# Create a bot using the Q&A contents in the index\n",
    "bot = bots.bot(\"gpt4\").withFacts(index, contentFields=[\"answer\"], top=RAG_KNOWLEDGE)"
   ],
   "metadata": {
    "collapsed": false
   }
  },
  {
   "cell_type": "code",
   "execution_count": 9,
   "outputs": [
    {
     "name": "stderr",
     "output_type": "stream",
     "text": [
      "INFO:GptBot:Considering facts:\n",
      "[409]\n",
      "the president of the united states of america (potus) is the head of state and head of government of the united states .\n",
      "\n",
      "[410]\n",
      "the president leads the executive branch of the federal government and is the commander-in-chief of the united states armed forces .\n",
      "\n",
      "[411]\n",
      "the president is further empowered to grant federal pardons and reprieves , and to convene and adjourn either or both houses of congress under extraordinary circumstances.\n",
      "\n",
      "[813]\n",
      "george washington ( – , 1799) was the first president of the united states (1789–1797), the commander-in-chief of the continental army during the american revolutionary war , and one of the founding fathers of the united states .\n",
      "\n",
      "[1156]\n",
      "george washington ( – , 1799) was the first president of the united states (1789–1797), the commander-in-chief of the continental army during the american revolutionary war , and one of the founding fathers of the united states .\n",
      "INFO:GptBot:Question:\n",
      "what does the president of the usa do\n",
      "INFO:openai:message='OpenAI API response' path=https://api.openai.com/v1/chat/completions processing_ms=5226 request_id=b30a6674b5b07ec4416d300186eed777 response_code=200\n",
      "INFO:GptBot:Answer:\n",
      "The President of the United States (POTUS) is the head of state and head of government of the United States, leading the executive branch of the federal government. They are also the commander-in-chief of the United States Armed Forces. Furthermore, the president has the power to grant federal pardons and reprieves, and to convene and adjourn either or both houses of Congress under extraordinary circumstances. [409][410][411]\n"
     ]
    },
    {
     "name": "stdout",
     "output_type": "stream",
     "text": [
      "The President of the United States (POTUS) is the head of state and head of government of the United States, leading the executive branch of the federal government. They are also the commander-in-chief of the United States Armed Forces. Furthermore, the president has the power to grant federal pardons and reprieves, and to convene and adjourn either or both houses of Congress under extraordinary circumstances. [409,410,411]\n",
      "In the index\n",
      "[409] the president of the united states of america (potus) is the head of state and head of government of the united states .\n",
      "[410] the president leads the executive branch of the federal government and is the commander-in-chief of the united states armed forces .\n",
      "[411] the president is further empowered to grant federal pardons and reprieves , and to convene and adjourn either or both houses of congress under extraordinary circumstances.\n"
     ]
    }
   ],
   "source": [
    "# Test the bot.  (Note the multiple citations.)\n",
    "question = \"what does the president of the usa do\"\n",
    "botAnswer = await bot.ask(question)\n",
    "print(botAnswer)\n",
    "\n",
    "print(\"In the index\")\n",
    "articles = await index.get(botAnswer.citations)\n",
    "for a in articles:\n",
    "    print(f\"[{a['_id']}] {a['answer']}\")"
   ],
   "metadata": {
    "collapsed": false
   }
  },
  {
   "cell_type": "markdown",
   "source": [
    "## Found Standard Answers in Proximity of Embedding\n",
    "\n",
    "Make the bot answer a question, embed the answer, and see if the standard answer is in the top N items in the proximity."
   ],
   "metadata": {
    "collapsed": false
   }
  },
  {
   "cell_type": "code",
   "execution_count": 14,
   "outputs": [
    {
     "name": "stderr",
     "output_type": "stream",
     "text": [
      "INFO:ProximityEvaluator:Question: where is the island new guinea?\n",
      "INFO:GptBot:Considering facts:\n",
      "[73]\n",
      "australia is a continent comprising mainland australia , tasmania , new guinea , seram , possibly timor , and neighbouring islands.\n",
      "\n",
      "[60]\n",
      "nassau\n",
      "\n",
      "[157]\n",
      "belize , is a country located on the northeastern coast of central america.\n",
      "\n",
      "[61]\n",
      "freeport, bahamas\n",
      "\n",
      "[1157]\n",
      "located in the southwest pacific ocean , it lies geographically to the east of the malay archipelago , with which it is sometimes included as part of a greater indo-australian archipelago .\n",
      "INFO:GptBot:Question:\n",
      "where is the island new guinea?\n",
      "INFO:openai:message='OpenAI API response' path=https://api.openai.com/v1/chat/completions processing_ms=2745 request_id=fc2c0d067d080544caebf1230667826d response_code=200\n",
      "INFO:GptBot:Answer:\n",
      "New Guinea is part of the continent of Australia, located in the southwest Pacific Ocean. [73] [1157]\n",
      "INFO:ProximityEvaluator:Answer: New Guinea is part of the continent of Australia, located in the southwest Pacific Ocean. [73,1157]\n",
      "INFO:ProximityEvaluator:\n",
      "[73] australia is a continent comprising mainland australia , tasmania , new guinea , seram , possibly timor , and neighbouring islands.\n",
      "[1157] located in the southwest pacific ocean , it lies geographically to the east of the malay archipelago , with which it is sometimes included as part of a greater indo-australian archipelago .\n",
      "[157] belize , is a country located on the northeastern coast of central america.\n",
      "INFO:ProximityEvaluator:Score = 1.0\n",
      "INFO:ProximityEvaluator:Question: what are procedure codes terms in coding?\n",
      "INFO:GptBot:Considering facts:\n",
      "[756]\n",
      "procedure codes are numbers or alphanumeric codes used to identify specific health interventions taken by medical professionals.\n",
      "\n",
      "[466]\n",
      "array programming primitives concisely express broad ideas about data manipulation.\n",
      "\n",
      "[1182]\n",
      "in statistics , stepwise regression includes regression models in which the choice of predictive variables is carried out by an automatic procedure.\n",
      "\n",
      "[255]\n",
      "a computer is a general purpose device that can be programmed to carry out a finite set of arithmetic or logical operations.\n",
      "\n",
      "[1395]\n",
      "in practice, the term sla is sometimes used to refer to the contracted delivery time (of the service or performance).\n",
      "INFO:GptBot:Question:\n",
      "what are procedure codes terms in coding?\n",
      "INFO:openai:message='OpenAI API response' path=https://api.openai.com/v1/chat/completions processing_ms=3394 request_id=888b923c6b904c6e06cd2ff8ac2b19da response_code=200\n",
      "INFO:GptBot:Answer:\n",
      "Procedure codes are numbers or alphanumeric codes used to identify specific health interventions taken by medical professionals. [756]\n",
      "INFO:ProximityEvaluator:Answer: Procedure codes are numbers or alphanumeric codes used to identify specific health interventions taken by medical professionals. [756]\n",
      "INFO:ProximityEvaluator:\n",
      "[756] procedure codes are numbers or alphanumeric codes used to identify specific health interventions taken by medical professionals.\n",
      "[441] area code 949 is an area code in california that is contained mostly within south orange county .\n",
      "[738] north american telephone area codes 419 and 567 serve the northwest quadrant of the u.s. state of ohio .\n",
      "INFO:ProximityEvaluator:Score = 1.0\n",
      "INFO:ProximityEvaluator:Question: how many innings makes an official game\n",
      "INFO:GptBot:Considering facts:\n",
      "[425]\n",
      "since most professional baseball games are nine innings long, the fifth inning is used as the threshold for an official game.\n",
      "\n",
      "[977]\n",
      "matches are played between two teams of seven players riding flying broomsticks, using four balls and six elevated ring-shaped goals, three on each side of the quidditch pitch (field).\n",
      "\n",
      "[153]\n",
      "it is calculated as total bases divided by at bats :\n",
      "\n",
      "[316]\n",
      "cycles are uncommon in major league baseball (mlb), and have occurred 294 times since the first by curry foley in 1882.\n",
      "\n",
      "[317]\n",
      "the cycle is roughly as common as a no-hitter (279 occurrences in mlb history); it has been called \"one of the rarest\" and \"most difficult feats\" in baseball.\n",
      "INFO:GptBot:Question:\n",
      "how many innings makes an official game\n",
      "INFO:openai:message='OpenAI API response' path=https://api.openai.com/v1/chat/completions processing_ms=2116 request_id=b3d0486b1bdedaede069958697946456 response_code=200\n",
      "INFO:GptBot:Answer:\n",
      "An official game is reached at the fifth inning in professional baseball. [425]\n",
      "INFO:ProximityEvaluator:Answer: An official game is reached at the fifth inning in professional baseball. [425]\n",
      "INFO:ProximityEvaluator:\n",
      "[425] since most professional baseball games are nine innings long, the fifth inning is used as the threshold for an official game.\n",
      "[977] matches are played between two teams of seven players riding flying broomsticks, using four balls and six elevated ring-shaped goals, three on each side of the quidditch pitch (field).\n",
      "[153] it is calculated as total bases divided by at bats :\n",
      "INFO:ProximityEvaluator:Score = 1.0\n",
      "INFO:ProximityEvaluator:Question: when did thomas jefferson become president\n",
      "INFO:GptBot:Considering facts:\n",
      "[951]\n",
      "thomas jefferson (april 13, 1743 (april 2, 1743 o.s. ) – july 4, 1826) was an american founding father , the principal author of the declaration of independence (1776) and the third president of the united states (1801–1809).\n",
      "\n",
      "[908]\n",
      "the purchase of the territory of louisiana took place during the presidency of thomas jefferson .\n",
      "\n",
      "[952]\n",
      "elected president in what jefferson called the revolution of 1800 , he oversaw the purchase of the vast louisiana territory from france (1803), and sent the lewis and clark expedition (1804–1806) to explore the new west.\n",
      "\n",
      "[813]\n",
      "george washington ( – , 1799) was the first president of the united states (1789–1797), the commander-in-chief of the continental army during the american revolutionary war , and one of the founding fathers of the united states .\n",
      "\n",
      "[1156]\n",
      "george washington ( – , 1799) was the first president of the united states (1789–1797), the commander-in-chief of the continental army during the american revolutionary war , and one of the founding fathers of the united states .\n",
      "INFO:GptBot:Question:\n",
      "when did thomas jefferson become president\n",
      "INFO:openai:message='OpenAI API response' path=https://api.openai.com/v1/chat/completions processing_ms=2028 request_id=4280425cbb59ac7e41e036e36a8b843d response_code=200\n",
      "INFO:GptBot:Answer:\n",
      "Thomas Jefferson became the third president of the United States in 1801. [951]\n",
      "INFO:ProximityEvaluator:Answer: Thomas Jefferson became the third president of the United States in 1801. [951]\n",
      "INFO:ProximityEvaluator:\n",
      "[951] thomas jefferson (april 13, 1743 (april 2, 1743 o.s. ) – july 4, 1826) was an american founding father , the principal author of the declaration of independence (1776) and the third president of the united states (1801–1809).\n",
      "[802] john adams (october 30, 1735 ( o.s. october 19, 1735) – july 4, 1826) was the second president of the united states (1797–1801), having earlier served as the first vice president of the united states .\n",
      "[813] george washington ( – , 1799) was the first president of the united states (1789–1797), the commander-in-chief of the continental army during the american revolutionary war , and one of the founding fathers of the united states .\n",
      "INFO:ProximityEvaluator:Score = 1.0\n",
      "INFO:ProximityEvaluator:Question: what day is the feast of st joseph's?\n",
      "INFO:GptBot:Considering facts:\n",
      "[349]\n",
      "saint joseph's day, march 19, the feast of st. joseph is in western christianity the principal feast day of saint joseph , spouse of the blessed virgin mary .\n",
      "\n",
      "[1432]\n",
      "the holiday is observed during holy week as part of the paschal triduum on the friday preceding easter sunday , and may coincide with the jewish observance of passover .\n",
      "\n",
      "[1431]\n",
      "good friday is a religious holiday observed primarily by christians commemorating the crucifixion of jesus christ and his death at calvary .\n",
      "\n",
      "[154]\n",
      "saint patrick's day or the feast of saint patrick (, \"the day of the festival of patrick\") is a cultural and religious holiday celebrated on 17 march.\n",
      "\n",
      "[1433]\n",
      "it is also known as holy friday, great friday, black friday, or easter friday, though the latter properly refers to the friday in easter week .\n",
      "INFO:GptBot:Question:\n",
      "what day is the feast of st joseph's?\n",
      "INFO:openai:message='OpenAI API response' path=https://api.openai.com/v1/chat/completions processing_ms=1611 request_id=4078f2bb4d6d4e886662b046850c157d response_code=200\n",
      "INFO:GptBot:Answer:\n",
      "The Feast of St. Joseph is celebrated on March 19. [349]\n",
      "INFO:ProximityEvaluator:Answer: The Feast of St. Joseph is celebrated on March 19. [349]\n",
      "INFO:ProximityEvaluator:\n",
      "[349] saint joseph's day, march 19, the feast of st. joseph is in western christianity the principal feast day of saint joseph , spouse of the blessed virgin mary .\n",
      "[154] saint patrick's day or the feast of saint patrick (, \"the day of the festival of patrick\") is a cultural and religious holiday celebrated on 17 march.\n",
      "[1432] the holiday is observed during holy week as part of the paschal triduum on the friday preceding easter sunday , and may coincide with the jewish observance of passover .\n",
      "INFO:ProximityEvaluator:Score = 1.0\n",
      "INFO:ProximityEvaluator:Question: what is the population of center tx\n",
      "INFO:GptBot:Considering facts:\n",
      "[78]\n",
      "atlanta is the cultural and economic center of the atlanta metropolitan area , home to 5,457,831 people and the ninth largest metropolitan area in the united states.\n",
      "\n",
      "[22]\n",
      "according to the u.s census estimates of 2005, the city had a population of 12,381.\n",
      "\n",
      "[1002]\n",
      "depending on class model used, the middle class may constitute anywhere from 25% to 66% of households.\n",
      "\n",
      "[1098]\n",
      "a central processing unit (cpu), also referred to as a central processor unit, is the hardware within a computer that carries out the instructions of a computer program by performing the basic arithmetical, logical, and input/output operations of the system.\n",
      "\n",
      "[348]\n",
      "the campus is the 6th-largest in the uc system by enrollment with 18,977 undergraduate and 2,950 graduate students.\n",
      "INFO:GptBot:Question:\n",
      "what is the population of center tx\n",
      "INFO:openai:message='OpenAI API response' path=https://api.openai.com/v1/chat/completions processing_ms=2679 request_id=68320e02ad4ed0c7ef7ab186485afbe1 response_code=200\n",
      "INFO:GptBot:Answer:\n",
      "The population of the city was 12,381 according to the U.S census estimates of 2005. [22]\n",
      "INFO:ProximityEvaluator:Answer: The population of the city was 12,381 according to the U.S census estimates of 2005. [22]\n",
      "INFO:ProximityEvaluator:\n",
      "[22] according to the u.s census estimates of 2005, the city had a population of 12,381.\n",
      "[345] the population was 5,193 at the 2010 census.\n",
      "[1195] the population was 3,167 at the 2010 census .\n",
      "INFO:ProximityEvaluator:Score = 1.0\n",
      "INFO:ProximityEvaluator:Question: what are risk for infections\n",
      "INFO:GptBot:Considering facts:\n",
      "[479]\n",
      "risk of infection is a nursing diagnosis which is defined as \"the state in which an individual is at risk to be invaded by an opportunistic or pathogenic agent ( virus , fungus , bacteria , protozoa , or other parasite ) from endogenous or exogenous sources\" and was approved by nanda in 1986.\n",
      "\n",
      "[801]\n",
      "it usually occurs following a viral infection but may appear following vaccination , bacterial or parasitic infection, or even appear spontaneously.\n",
      "\n",
      "[384]\n",
      "the disease incidence is 3–30 cases per million per year and rising as a result of increased awareness.\n",
      "\n",
      "[11]\n",
      "transmission occurs primarily by drinking water or eating food that has been contaminated by the feces (waste product) of an infected person, including one with no apparent symptoms.\n",
      "\n",
      "[1400]\n",
      "the mortality rate from septic shock is approximately 25–50%.\n",
      "INFO:GptBot:Question:\n",
      "what are risk for infections\n",
      "INFO:openai:message='OpenAI API response' path=https://api.openai.com/v1/chat/completions processing_ms=9394 request_id=dbf7b8419a41a12100808301890ada3e response_code=200\n",
      "INFO:GptBot:Answer:\n",
      "A risk of infection is a state in which an individual is at risk to be invaded by an opportunistic or pathogenic agent such as a virus, fungus, bacteria, protozoa, or other parasite from endogenous or exogenous sources. This can occur following a viral infection, vaccination, bacterial or parasitic infection, or even appear spontaneously. Transmission often occurs primarily by drinking water or eating food that has been contaminated by the feces of an infected person, including one with no apparent symptoms. [479][801][11]\n",
      "INFO:ProximityEvaluator:Answer: A risk of infection is a state in which an individual is at risk to be invaded by an opportunistic or pathogenic agent such as a virus, fungus, bacteria, protozoa, or other parasite from endogenous or exogenous sources. This can occur following a viral infection, vaccination, bacterial or parasitic infection, or even appear spontaneously. Transmission often occurs primarily by drinking water or eating food that has been contaminated by the feces of an infected person, including one with no apparent symptoms. [479,801,11]\n",
      "INFO:ProximityEvaluator:\n",
      "[479] risk of infection is a nursing diagnosis which is defined as \"the state in which an individual is at risk to be invaded by an opportunistic or pathogenic agent ( virus , fungus , bacteria , protozoa , or other parasite ) from endogenous or exogenous sources\" and was approved by nanda in 1986.\n",
      "[11] transmission occurs primarily by drinking water or eating food that has been contaminated by the feces (waste product) of an infected person, including one with no apparent symptoms.\n",
      "[801] it usually occurs following a viral infection but may appear following vaccination , bacterial or parasitic infection, or even appear spontaneously.\n",
      "INFO:ProximityEvaluator:Score = 1.0\n",
      "INFO:ProximityEvaluator:Question: what cards do you need in poker to get a royal flush\n",
      "INFO:GptBot:Considering facts:\n",
      "[360]\n",
      "these hand rankings are also used in some other card games , and in poker dice .\n",
      "\n",
      "[725]\n",
      "in poker , bad beat is a subjective term for a hand in which a player with what appear to be strong cards nevertheless loses.\n",
      "\n",
      "[72]\n",
      "the object is to take at least the number of tricks that were bid before play of the hand began.\n",
      "\n",
      "[650]\n",
      "the royal standard is flown at royal residences only when the sovereign is present.\n",
      "\n",
      "[649]\n",
      "the royal standard of the united kingdom is flown when the queen is in residence in one of the royal residences.\n",
      "INFO:GptBot:Question:\n",
      "what cards do you need in poker to get a royal flush\n",
      "INFO:openai:message='OpenAI API response' path=https://api.openai.com/v1/chat/completions processing_ms=598 request_id=33b9dd23330ecc61db06f24cb90ed960 response_code=200\n",
      "INFO:GptBot:Answer:\n",
      "I don't know [--]\n",
      "INFO:ProximityEvaluator:Answer: I don't know [--]\n",
      "INFO:ProximityEvaluator:Question: what is the title of hobbes main work\n"
     ]
    },
    {
     "name": "stdout",
     "output_type": "stream",
     "text": [
      "Failed question: what cards do you need in poker to get a royal flush (I don't know [--])\n"
     ]
    },
    {
     "name": "stderr",
     "output_type": "stream",
     "text": [
      "INFO:GptBot:Considering facts:\n",
      "[96]\n",
      "while he achieved fame during his lifetime as an author, philosopher, alchemist and astronomer , composing a scientific treatise on the astrolabe for his ten year-old son lewis, chaucer also maintained an active career in the civil service as a bureaucrat, courtier and diplomat.\n",
      "\n",
      "[742]\n",
      "charles john huffam dickens (; 7 february 1812 – 9 june 1870) was an english writer and social critic.\n",
      "\n",
      "[1026]\n",
      "postmodern literature is literature characterized by heavy reliance on techniques like fragmentation, paradox, and questionable narrators, and is often (though not exclusively) defined as a style or trend which emerged in the post–world war ii era.\n",
      "\n",
      "[405]\n",
      "the humanities are academic disciplines that study human culture, using methods that are primarily analytical , critical , or speculative , and having a significant historical element, as distinguished from the mainly empirical approaches of the natural sciences .\n",
      "\n",
      "[1117]\n",
      "jackie keith whitley (july 1, 1954stambler, irwin, and grelun landon (2000). - country music: the encyclopedia. - new york: st. martin's press. - p.533. - isbn 978-0-312-26487-1.—carlin, richard (2003). - country music: a biographical dictionary. - new york: routledge - p.427. - isbn 978-0-415-93802-0.—larkin, colin (1995). - the guinness encyclopedia of popular music. - new york: stockton press - p.4462. - isbn 978-0-85112-662-3.—stanton, scott (2003). - the tombstone tourist: musicians. - new york: pocket books. - p.395. - isbn 978-0-7434-6330-0.—hicks, jack. - \"singer keith whitley's memory alive through songs, love in home town\". - the kentucky post . - september 25, 1991.—\"country music star keith whitley dead at 33\". - lexington herald-leader . - may 10, 1989.——hurst, jack. - \"whitley's last days\". - chicago tribune . - may 14, 1989.—\"alcohol kills country singer keith whitley\". - united press international . - (c/o the san francisco chronicle ). - may 10, 1989. — may 9, 1989), known professionally as keith whitley, was an american country music singer.\n",
      "INFO:GptBot:Question:\n",
      "what is the title of hobbes main work\n",
      "INFO:openai:message='OpenAI API response' path=https://api.openai.com/v1/chat/completions processing_ms=647 request_id=8da32fae8d840628ed5fb4835112d8f2 response_code=200\n",
      "INFO:GptBot:Answer:\n",
      "I don't know [--]\n",
      "INFO:ProximityEvaluator:Answer: I don't know [--]\n",
      "INFO:ProximityEvaluator:Question: how many consecutive games did ken jennings win?\n"
     ]
    },
    {
     "name": "stdout",
     "output_type": "stream",
     "text": [
      "Failed question: what is the title of hobbes main work (I don't know [--])\n"
     ]
    },
    {
     "name": "stderr",
     "output_type": "stream",
     "text": [
      "INFO:GptBot:Considering facts:\n",
      "[212]\n",
      "in 2004, jennings won 74 jeopardy!\n",
      "\n",
      "[127]\n",
      "he has led teams to eight division championships ( 1995 , 1996 , 1997 , 2002 , 2003 , 2004 , 2007 , 2009 ), five nfc championship games ( 1995 , 1996 , 1997 , 2007 , 2009 ), and two super bowl appearances ( super bowl xxxi , super bowl xxxii ), winning one (super bowl xxxi).\n",
      "\n",
      "[1184]\n",
      "unlike the preakness and belmont stakes, which took hiatuses in 1891-1893 and 1911-1912 respectively, the kentucky derby has been run every consecutive year since 1875.\n",
      "\n",
      "[213]\n",
      "jennings is a small city in and the parish seat of jefferson davis parish , louisiana , united states , near lake charles .\n",
      "\n",
      "[1434]\n",
      "wilt chamberlain holds the all-time records for total points scored (4,029) and points per game (50.4) in a season; both records were achieved in the 1961–62 season .\n",
      "INFO:GptBot:Question:\n",
      "how many consecutive games did ken jennings win?\n",
      "INFO:openai:message='OpenAI API response' path=https://api.openai.com/v1/chat/completions processing_ms=1354 request_id=4f8e47a69f1aa8b9204e0863519a6edf response_code=200\n",
      "INFO:GptBot:Answer:\n",
      "Ken Jennings won 74 consecutive games of Jeopardy! [212]\n",
      "INFO:ProximityEvaluator:Answer: Ken Jennings won 74 consecutive games of Jeopardy! [212]\n",
      "INFO:ProximityEvaluator:\n",
      "[212] in 2004, jennings won 74 jeopardy!\n",
      "[213] jennings is a small city in and the parish seat of jefferson davis parish , louisiana , united states , near lake charles .\n",
      "[1184] unlike the preakness and belmont stakes, which took hiatuses in 1891-1893 and 1911-1912 respectively, the kentucky derby has been run every consecutive year since 1875.\n",
      "INFO:ProximityEvaluator:Score = 1.0\n"
     ]
    },
    {
     "name": "stdout",
     "output_type": "stream",
     "text": [
      "0.8\n"
     ]
    }
   ],
   "source": [
    "# Create the Evaluator for the bot\n",
    "evaluator = await ProximityEvaluator().forBot(bot).withData(data, index)\n",
    "\n",
    "score = await evaluator.evaluate(sampleSize=10, showFailedQuestions=True)\n",
    "\n",
    "print(score)"
   ],
   "metadata": {
    "collapsed": false
   }
  },
  {
   "cell_type": "markdown",
   "source": [
    "During my tests, I found the bot stated that it does not know \"what states does interstate 70 travel through\".  I checked the test data and found the answer to the question was:\n",
    "\n",
    "*\"interstate 70 (i-70) is an interstate highway in the united states that runs from interstate 15 near cove fort, utah , to a park and ride near baltimore, maryland .\"*\n",
    "\n",
    "This is **NOT** a correct answer for the question.  Thus, the bot is actually correct not knowing the answer from the provided facts."
   ],
   "metadata": {
    "collapsed": false
   }
  },
  {
   "cell_type": "code",
   "execution_count": 11,
   "outputs": [
    {
     "name": "stdout",
     "output_type": "stream",
     "text": [
      "[{'_found': True, 'question': 'what states does interstate 70 travel through', 'answer': 'interstate 70 (i-70) is an interstate highway in the united states that runs from interstate 15 near cove fort, utah , to a park and ride near baltimore, maryland .', '_id': '777'}]\n"
     ]
    },
    {
     "name": "stderr",
     "output_type": "stream",
     "text": [
      "INFO:GptBot:Considering facts:\n",
      "[777]\n",
      "interstate 70 (i-70) is an interstate highway in the united states that runs from interstate 15 near cove fort, utah , to a park and ride near baltimore, maryland .\n",
      "\n",
      "[552]\n",
      "the states which have shoreline on the east coast are, from north to south, the u.s. states of maine , new hampshire , massachusetts , rhode island , connecticut , new york , new jersey , delaware , maryland , virginia , north carolina , south carolina , georgia , and florida .\n",
      "\n",
      "[943]\n",
      "the lower forty-eight contiguous states and the federal district of washington, d.c. are in central north america between canada and mexico.\n",
      "\n",
      "[944]\n",
      "the state of alaska is west of canada and east of russia across the bering strait, and the state of hawaii is in the mid-north pacific.\n",
      "\n",
      "[982]\n",
      "arizona became the second state to adopt a \"state firearm\" after utah adopted the browning m1911 .\n",
      "INFO:GptBot:Question:\n",
      "what states does interstate 70 travel through\n",
      "INFO:openai:message='OpenAI API response' path=https://api.openai.com/v1/chat/completions processing_ms=1046 request_id=0ab4d4a13af19477aabc6cd781c063a3 response_code=200\n",
      "INFO:GptBot:Answer:\n",
      "I don't know. [--]\n"
     ]
    },
    {
     "name": "stdout",
     "output_type": "stream",
     "text": [
      "I don't know. [--]\n"
     ]
    }
   ],
   "source": [
    "answerUnknownQuestion = \"what states does interstate 70 travel through\"\n",
    "answerUnknownId = '777'\n",
    "print(await index.get(answerUnknownId))\n",
    "\n",
    "print(await bot.ask(answerUnknownQuestion))"
   ],
   "metadata": {
    "collapsed": false
   }
  },
  {
   "cell_type": "code",
   "execution_count": 12,
   "outputs": [
    {
     "name": "stderr",
     "output_type": "stream",
     "text": [
      "INFO:GptBot:Considering facts:\n",
      "[444]\n",
      "after a gestation period of about 65 days, two to five young, known as \"kits\", are born in spring.\n",
      "\n",
      "[1079]\n",
      "rock of ages is a rock / jukebox musical , with a book by chris d'arienzo, built around classic rock hits from the 1980s, especially from the famous glam metal bands of the decade.\n",
      "\n",
      "[292]\n",
      "as a medical diagnosis, pedophilia or paedophilia is a psychiatric disorder in persons 16 years of age or older typically characterized by a primary or exclusive sexual interest toward prepubescent children (generally age 11 years or younger, though specific diagnosis criteria for the disorder extends the cut-off point for prepubescence to age 13).\n",
      "\n",
      "[250]\n",
      "humans are born with over 270 bones, some of which fuse together into a longitudinal axis, the axial skeleton , to which the appendicular skeleton is attached.\n",
      "\n",
      "[821]\n",
      "the launch of the playstation 3 into the japanese market on 10 november 2006 marked the second major seventh generation entertainment system to be released.\n",
      "INFO:GptBot:Question:\n",
      "what age group is generation x\n",
      "INFO:openai:message='OpenAI API response' path=https://api.openai.com/v1/chat/completions processing_ms=482 request_id=ac489002288f2fdba195538c4e9ac3c4 response_code=200\n",
      "INFO:GptBot:Answer:\n",
      "I don't know [--]\n"
     ]
    },
    {
     "name": "stdout",
     "output_type": "stream",
     "text": [
      "I don't know [--]\n"
     ]
    }
   ],
   "source": [
    "# These questions could not be found in the top-5 picks in the index.\n",
    "\n",
    "answerNotFoundByIndex = \"what age group is generation x\"\n",
    "# answerNotFoundByIndex = \"what cards do you need in poker to get a royal flush\"\n",
    "# answerNotFoundByIndex = \"what is the title of hobbes main work\"\n",
    "print(await bot.ask(answerNotFoundByIndex))"
   ],
   "metadata": {
    "collapsed": false
   }
  },
  {
   "cell_type": "code",
   "execution_count": 18,
   "outputs": [
    {
     "name": "stderr",
     "output_type": "stream",
     "text": [
      "INFO:GptBot:Considering facts:\n",
      "[96]\n",
      "while he achieved fame during his lifetime as an author, philosopher, alchemist and astronomer , composing a scientific treatise on the astrolabe for his ten year-old son lewis, chaucer also maintained an active career in the civil service as a bureaucrat, courtier and diplomat.\n",
      "\n",
      "[742]\n",
      "charles john huffam dickens (; 7 february 1812 – 9 june 1870) was an english writer and social critic.\n",
      "\n",
      "[1026]\n",
      "postmodern literature is literature characterized by heavy reliance on techniques like fragmentation, paradox, and questionable narrators, and is often (though not exclusively) defined as a style or trend which emerged in the post–world war ii era.\n",
      "\n",
      "[405]\n",
      "the humanities are academic disciplines that study human culture, using methods that are primarily analytical , critical , or speculative , and having a significant historical element, as distinguished from the mainly empirical approaches of the natural sciences .\n",
      "\n",
      "[1117]\n",
      "jackie keith whitley (july 1, 1954stambler, irwin, and grelun landon (2000). - country music: the encyclopedia. - new york: st. martin's press. - p.533. - isbn 978-0-312-26487-1.—carlin, richard (2003). - country music: a biographical dictionary. - new york: routledge - p.427. - isbn 978-0-415-93802-0.—larkin, colin (1995). - the guinness encyclopedia of popular music. - new york: stockton press - p.4462. - isbn 978-0-85112-662-3.—stanton, scott (2003). - the tombstone tourist: musicians. - new york: pocket books. - p.395. - isbn 978-0-7434-6330-0.—hicks, jack. - \"singer keith whitley's memory alive through songs, love in home town\". - the kentucky post . - september 25, 1991.—\"country music star keith whitley dead at 33\". - lexington herald-leader . - may 10, 1989.——hurst, jack. - \"whitley's last days\". - chicago tribune . - may 14, 1989.—\"alcohol kills country singer keith whitley\". - united press international . - (c/o the san francisco chronicle ). - may 10, 1989. — may 9, 1989), known professionally as keith whitley, was an american country music singer.\n",
      "INFO:GptBot:Question:\n",
      "what is the title of hobbes main work\n",
      "INFO:openai:message='OpenAI API response' path=https://api.openai.com/v1/chat/completions processing_ms=944 request_id=eec26e544dfafcc1a59a0e332e565cb9 response_code=200\n",
      "INFO:GptBot:Answer:\n",
      "I don't know [--]\n"
     ]
    },
    {
     "name": "stdout",
     "output_type": "stream",
     "text": [
      "I don't know [--]\n"
     ]
    }
   ],
   "source": [
    "answerUnknownQuestion2 = \"what is the title of hobbes main work\"\n",
    "print(await bot.ask(answerUnknownQuestion2))"
   ],
   "metadata": {
    "collapsed": false
   }
  }
 ],
 "metadata": {
  "kernelspec": {
   "display_name": "Python 3",
   "language": "python",
   "name": "python3"
  },
  "language_info": {
   "codemirror_mode": {
    "name": "ipython",
    "version": 2
   },
   "file_extension": ".py",
   "mimetype": "text/x-python",
   "name": "python",
   "nbconvert_exporter": "python",
   "pygments_lexer": "ipython2",
   "version": "2.7.6"
  }
 },
 "nbformat": 4,
 "nbformat_minor": 0
}
