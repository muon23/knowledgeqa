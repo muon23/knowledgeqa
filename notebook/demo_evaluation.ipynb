{
 "cells": [
  {
   "cell_type": "markdown",
   "source": [
    "# Demo -- Model Evaluation\n",
    "\n"
   ],
   "metadata": {
    "collapsed": false
   }
  },
  {
   "cell_type": "code",
   "execution_count": 1,
   "outputs": [
    {
     "name": "stderr",
     "output_type": "stream",
     "text": [
      "[nltk_data] Downloading package punkt to /Users/cjwang/nltk_data...\n",
      "[nltk_data]   Package punkt is already up-to-date!\n"
     ]
    }
   ],
   "source": [
    "import logging\n",
    "import os\n",
    "\n",
    "from cjw.knowledgeqa import indexers, bots\n",
    "from cjw.knowledgeqa.evaluators.ConsistencyEvaluator import ConsistencyEvaluator\n",
    "from cjw.knowledgeqa.evaluators.ProximityEvaluator import ProximityEvaluator\n",
    "from cjw.knowledgeqa.evaluators.QAData import QAData\n",
    "from cjw.utilities.embedding.BertEmbedding import BertEmbedding\n"
   ],
   "metadata": {
    "collapsed": false
   }
  },
  {
   "cell_type": "markdown",
   "source": [
    "## Set up the Environment\n",
    "\n",
    "Adjust these variables if necessary to suit the local environment.\n"
   ],
   "metadata": {
    "collapsed": false
   }
  },
  {
   "cell_type": "code",
   "execution_count": 2,
   "outputs": [],
   "source": [
    "\n",
    "HOME = os.path.expanduser(\"~\")\n",
    "PROJECT_DIR = f\"{HOME}/IdeaProjects/knowledgeqa\"\n",
    "DATA_FILE = f\"{PROJECT_DIR}/data/wikipedia_question_similar_answer.tsv\"\n",
    "\n",
    "MARQO_SERVER = 'http://localhost:8882'\n",
    "TEST_INDEX_NAME = \"wiki_test_qa\"\n",
    "\n",
    "RAG_KNOWLEDGE = 10       # How many facts should be pulled out from the index before being fed to LLM\n",
    "GPT_TEMPERATURE = 0.6"
   ],
   "metadata": {
    "collapsed": false
   }
  },
  {
   "cell_type": "code",
   "execution_count": 3,
   "outputs": [],
   "source": [
    "# Turn on logger too see the internal work\n",
    "\n",
    "# logging.basicConfig(level=logging.INFO)\n"
   ],
   "metadata": {
    "collapsed": false
   }
  },
  {
   "cell_type": "markdown",
   "source": [
    "## Load Data, Indexing, and Create the Bot under Evaluation"
   ],
   "metadata": {
    "collapsed": false
   }
  },
  {
   "cell_type": "code",
   "execution_count": 4,
   "outputs": [],
   "source": [
    "# Read the golden Q&A data\n",
    "data = QAData(DATA_FILE)"
   ],
   "metadata": {
    "collapsed": false
   }
  },
  {
   "cell_type": "code",
   "execution_count": 5,
   "outputs": [],
   "source": [
    "# Start an index to hold the Q&A data\n",
    "index = indexers.index(\"marqo\", new=True, serverUrl=MARQO_SERVER, indexName=TEST_INDEX_NAME)"
   ],
   "metadata": {
    "collapsed": false
   }
  },
  {
   "cell_type": "code",
   "execution_count": 6,
   "outputs": [
    {
     "name": "stderr",
     "output_type": "stream",
     "text": [
      "/var/folders/mj/8vz4yhqj5w76hnkw54qktw900000gn/T/ipykernel_85438/787393499.py:2: RuntimeWarning: coroutine 'MarqoIndexer.size' was never awaited\n",
      "  if index.size() == 0:\n",
      "RuntimeWarning: Enable tracemalloc to get the object allocation traceback\n"
     ]
    }
   ],
   "source": [
    "# Index the data if it is not yet in there\n",
    "if index.size() == 0:\n",
    "    await index.add(data.to_dict(), keyFields=[\"answer\"])"
   ],
   "metadata": {
    "collapsed": false
   }
  },
  {
   "cell_type": "code",
   "execution_count": 7,
   "outputs": [
    {
     "data": {
      "text/plain": "[{'question': \"what is singapore's currency\",\n  'answer': 'the singapore dollar or dollar ( sign : $; code : sgd) is the official currency of singapore .',\n  '_id': '1377',\n  '_highlights': {'answer': 'the singapore dollar or dollar ( sign : $; code : sgd) is the official currency of singapore .'},\n  '_score': 0.90729886},\n {'question': 'what is korean money called',\n  'answer': 'the won () ( sign : ₩; code : krw) is the currency of south korea .',\n  '_id': '1429',\n  '_highlights': {'answer': 'the won () ( sign : ₩; code : krw) is the currency of south korea .'},\n  '_score': 0.7079103},\n {'question': 'who composed the singapore national anthem',\n  'answer': \"composed by zubir said in 1958 as a theme song for official functions of the city council of singapore, the song was selected in 1959 as the island's anthem when it attained self-government .\",\n  '_id': '678',\n  '_highlights': {'answer': \"composed by zubir said in 1958 as a theme song for official functions of the city council of singapore, the song was selected in 1959 as the island's anthem when it attained self-government .\"},\n  '_score': 0.69687176}]"
     },
     "execution_count": 7,
     "metadata": {},
     "output_type": "execute_result"
    }
   ],
   "source": [
    "# Test indexer's answer\n",
    "question = \"what is singapore's currency\"\n",
    "indexerAnswers = await index.search(question, top=3)\n",
    "indexerAnswers"
   ],
   "metadata": {
    "collapsed": false
   }
  },
  {
   "cell_type": "code",
   "execution_count": 8,
   "outputs": [],
   "source": [
    "# Create a bot using the Q&A contents in the index\n",
    "bot = bots.bot(\"gpt4\").withFacts(index, contentFields=[\"answer\"], top=RAG_KNOWLEDGE)"
   ],
   "metadata": {
    "collapsed": false
   }
  },
  {
   "cell_type": "code",
   "execution_count": 9,
   "outputs": [
    {
     "name": "stdout",
     "output_type": "stream",
     "text": [
      "The President of the United States of America is the head of state and head of government of the United States, leading the executive branch of the federal government and acting as the commander-in-chief of the United States armed forces. The President also has the power to grant federal pardons and reprieves, and to convene and adjourn either or both houses of Congress under extraordinary circumstances. [409,410,411]\n",
      "In the index\n",
      "[409] the president of the united states of america (potus) is the head of state and head of government of the united states .\n",
      "[410] the president leads the executive branch of the federal government and is the commander-in-chief of the united states armed forces .\n",
      "[411] the president is further empowered to grant federal pardons and reprieves , and to convene and adjourn either or both houses of congress under extraordinary circumstances.\n"
     ]
    }
   ],
   "source": [
    "# Test the bot.  (Note the multiple citations.)\n",
    "question = \"what does the president of the usa do\"\n",
    "botAnswer = await bot.ask(question)\n",
    "print(botAnswer)\n",
    "\n",
    "print(\"In the index\")\n",
    "articles = await index.get(botAnswer.citations)\n",
    "for a in articles:\n",
    "    print(f\"[{a['_id']}] {a['answer']}\")"
   ],
   "metadata": {
    "collapsed": false
   }
  },
  {
   "cell_type": "markdown",
   "source": [
    "## By Finding Standard Answers in Proximity\n",
    "\n",
    "Make the bot answer a question, embed the answer, and see if the standard answer is in the top N items in the proximity."
   ],
   "metadata": {
    "collapsed": false
   }
  },
  {
   "cell_type": "code",
   "execution_count": 10,
   "outputs": [
    {
     "name": "stdout",
     "output_type": "stream",
     "text": [
      "1.0\n"
     ]
    }
   ],
   "source": [
    "# Create the Evaluator for the bot\n",
    "evaluator = await ProximityEvaluator().forBot(bot).withData(data, index)\n",
    "\n",
    "score = await evaluator.evaluate(sampleSize=10, showFailedQuestions=True)\n",
    "\n",
    "print(score)"
   ],
   "metadata": {
    "collapsed": false
   }
  },
  {
   "cell_type": "markdown",
   "source": [
    "## By Comparing Similarities with Repeating Questions\n",
    "\n",
    "If we don't have a standard set, we can ask the bot multiple time with the same question.  If the bot is hallucinating, it is unlikely to hallucinate the same way every time."
   ],
   "metadata": {
    "collapsed": false
   }
  },
  {
   "cell_type": "code",
   "execution_count": 11,
   "outputs": [
    {
     "name": "stdout",
     "output_type": "stream",
     "text": [
      "0.9997768600781759\n"
     ]
    }
   ],
   "source": [
    "questions = data.getQuestions()\n",
    "bert = BertEmbedding(\"distilbert-multilingual-nli-stsb-quora-ranking\")\n",
    "evaluator = ConsistencyEvaluator(questions, bert).forBot(bot)\n",
    "\n",
    "score = await evaluator.evaluate(sampleSize=3)\n",
    "\n",
    "print(score)"
   ],
   "metadata": {
    "collapsed": false
   }
  },
  {
   "cell_type": "markdown",
   "source": [
    "## Interesting Questions\n",
    "\n",
    "I found the following questions/answers interesting in the provided Wikipedia data."
   ],
   "metadata": {
    "collapsed": false
   }
  },
  {
   "cell_type": "markdown",
   "source": [
    "During my tests, I found the bot stated that it does not know \"what states does interstate 70 travel through\".  I checked the test data and found the answer to the question was:\n",
    "\n",
    "*\"interstate 70 (i-70) is an interstate highway in the united states that runs from interstate 15 near cove fort, utah , to a park and ride near baltimore, maryland .\"*\n",
    "\n",
    "This is **NOT** a correct answer for the question.  Thus, the bot is actually correct not knowing the answer from the provided facts."
   ],
   "metadata": {
    "collapsed": false
   }
  },
  {
   "cell_type": "code",
   "execution_count": 12,
   "outputs": [
    {
     "name": "stdout",
     "output_type": "stream",
     "text": [
      "[{'_found': True, 'question': 'what states does interstate 70 travel through', 'answer': 'interstate 70 (i-70) is an interstate highway in the united states that runs from interstate 15 near cove fort, utah , to a park and ride near baltimore, maryland .', '_id': '777'}]\n",
      "I don't know [--]\n"
     ]
    }
   ],
   "source": [
    "answerUnknownQuestion = \"what states does interstate 70 travel through\"\n",
    "answerUnknownId = '777'\n",
    "print(await index.get(answerUnknownId))\n",
    "\n",
    "print(await bot.ask(answerUnknownQuestion))"
   ],
   "metadata": {
    "collapsed": false
   }
  },
  {
   "cell_type": "code",
   "execution_count": 13,
   "outputs": [
    {
     "name": "stdout",
     "output_type": "stream",
     "text": [
      "Generation X is defined by those born from the early 1960s to the early 1980s. [320]\n"
     ]
    }
   ],
   "source": [
    "# These questions could not be found in the top-5 picks in the index.  When I choose top 10, they went a way.\n",
    "\n",
    "answerNotFoundByIndex = \"what age group is generation x\"\n",
    "# answerNotFoundByIndex = \"what cards do you need in poker to get a royal flush\"\n",
    "# answerNotFoundByIndex = \"what is the title of hobbes main work\"\n",
    "print(await bot.ask(answerNotFoundByIndex))"
   ],
   "metadata": {
    "collapsed": false
   }
  }
 ],
 "metadata": {
  "kernelspec": {
   "display_name": "Python 3",
   "language": "python",
   "name": "python3"
  },
  "language_info": {
   "codemirror_mode": {
    "name": "ipython",
    "version": 2
   },
   "file_extension": ".py",
   "mimetype": "text/x-python",
   "name": "python",
   "nbconvert_exporter": "python",
   "pygments_lexer": "ipython2",
   "version": "2.7.6"
  }
 },
 "nbformat": 4,
 "nbformat_minor": 0
}
